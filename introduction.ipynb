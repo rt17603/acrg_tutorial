{
 "cells": [
  {
   "cell_type": "markdown",
   "metadata": {},
   "source": [
    "# Introduction"
   ]
  },
  {
   "cell_type": "markdown",
   "metadata": {},
   "source": [
    "The idea of this session today is to get you all familiar with some of the tools we use within the ACRG and in our code base. We are expecting that for this session you will have already installed Anaconda but if not this can be downloaded from this website: https://www.anaconda.com/download/#linux.\n",
    "\n",
    "For most topic areas there are exercises for you to complete as we go through which we will try and give you time to complete as we go through."
   ]
  },
  {
   "cell_type": "markdown",
   "metadata": {},
   "source": [
    "Here is an index of topics we cover in this tutorial:"
   ]
  },
  {
   "cell_type": "markdown",
   "metadata": {},
   "source": [
    "1. ### [Re-introduction to some in-built python objects](python_objects.ipynb)\n",
    "2. ### [Functions and numpy](functionsandnumpy.ipynb)\n",
    "3. ### [Xarray and netCDF files](xarray.ipynb)\n",
    "4. ### [Plotting using matplotlib](plotting.ipynb)"
   ]
  },
  {
   "cell_type": "markdown",
   "metadata": {
    "collapsed": true
   },
   "source": [
    "Please start by clicking on the first topic above."
   ]
  }
 ],
 "metadata": {
  "kernelspec": {
   "display_name": "Python [conda env:anaconda]",
   "language": "python",
   "name": "conda-env-anaconda-py"
  },
  "language_info": {
   "codemirror_mode": {
    "name": "ipython",
    "version": 2
   },
   "file_extension": ".py",
   "mimetype": "text/x-python",
   "name": "python",
   "nbconvert_exporter": "python",
   "pygments_lexer": "ipython2",
   "version": "2.7.15"
  }
 },
 "nbformat": 4,
 "nbformat_minor": 2
}

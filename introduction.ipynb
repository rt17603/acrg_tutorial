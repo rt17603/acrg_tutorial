{
 "cells": [
  {
   "cell_type": "markdown",
   "metadata": {},
   "source": [
    "# Introduction"
   ]
  },
  {
   "cell_type": "markdown",
   "metadata": {},
   "source": [
    "The idea of this session today is to get you all familiar with some of the tools we use within the ACRG and in our code base. We are expecting that for this session you will have already installed Anaconda but if not this can be downloaded from this website: https://www.anaconda.com/download/.\n",
    "\n",
    "For most topic areas there are exercises for you to complete as we go through which we will try and give you time to take a look at. Answers which you can compare to will be sent out after the session."
   ]
  },
  {
   "cell_type": "markdown",
   "metadata": {},
   "source": [
    "Here is an index of topics we cover in this tutorial:"
   ]
  },
  {
   "cell_type": "markdown",
   "metadata": {},
   "source": [
    "### [Re-introduction to some in-built Python objects](python_objects.ipynb)\n",
    "### [Numpy and Pandas](numpyandpandas.ipynb)\n",
    "### [Xarray and netCDF files](xarray.ipynb)\n",
    "### [Plotting using matplotlib](plotting.ipynb)"
   ]
  },
  {
   "cell_type": "markdown",
   "metadata": {
    "collapsed": true
   },
   "source": [
    "Please start by clicking on the first topic above."
   ]
  },
  {
   "cell_type": "markdown",
   "metadata": {},
   "source": [
    "\n",
    "## Other useful Python resources:"
   ]
  },
  {
   "cell_type": "markdown",
   "metadata": {},
   "source": [
    "Python 3 documentation: https://docs.python.org/3/\n",
    "\n",
    "Advanced Computing Research Centre (ACRC) at the University of Bristol online course materials: \n",
    "- [Beginning python](https://milliams.gitlab.io/beginning_python)\n",
    "- [Intermediate python](https://milliams.gitlab.io/intermediate_python)\n",
    "- [Intro to data analysis with python](https://milliams.gitlab.io/data_analysis_python)\n",
    "- [Version control with Git](https://chryswoods.com/beginning_git)\n",
    "\n",
    "Other python documentation:\n",
    "- [Offical Python 3 tutorial](https://docs.python.org/3/tutorial)\n",
    "- ['Dive in Python 3'](https://diveintopython3.problemsolving.io)\n",
    "- [Code wars](https://www.codewars.com/?language=python)\n",
    "\n",
    "More advanced data analysis\n",
    "- ['10 minutes to pandas'](https://pandas.pydata.org/pandas-docs/stable/getting_started/10min.html)\n",
    "- [Matplotlib gallery of examples](https://matplotlib.org/gallery.html)"
   ]
  }
 ],
 "metadata": {
  "kernelspec": {
   "display_name": "Python 3",
   "language": "python",
   "name": "python3"
  },
  "language_info": {
   "codemirror_mode": {
    "name": "ipython",
    "version": 3
   },
   "file_extension": ".py",
   "mimetype": "text/x-python",
   "name": "python",
   "nbconvert_exporter": "python",
   "pygments_lexer": "ipython3",
   "version": "3.6.5"
  }
 },
 "nbformat": 4,
 "nbformat_minor": 2
}

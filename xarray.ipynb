{
 "cells": [
  {
   "cell_type": "markdown",
   "metadata": {},
   "source": [
    "# xarray and netCDF files"
   ]
  },
  {
   "cell_type": "markdown",
   "metadata": {},
   "source": [
    "The `xarray` Python package can be used to extract netCDF files which are often used to distribute meteorological data and normally end with the extension \".nc\". More details of this package can be found at:\n",
    "\n",
    "http://xarray.pydata.org/en/stable/\n",
    "\n",
    "You won't need to go too much into detail of the features of `xarray` but it is useful to understand how to use it to read in files and how to extract data from those files."
   ]
  },
  {
   "cell_type": "markdown",
   "metadata": {},
   "source": [
    "### Installing xarray"
   ]
  },
  {
   "cell_type": "markdown",
   "metadata": {},
   "source": [
    "Unlike `numpy`, which is available by default, you will need to make sure that `xarray` is available within your Anaconda installation if you haven't already.\n",
    "\n",
    "- Within Anaconda Navigator there should be a tab labelled \"Environments\". This will show you a list of currently installed packages.\n",
    "- In the drop down if you select \"All\" (rather than \"Installed\") you can then select `xarray` from the list of available packages by ticking it (you can search to find it) and clicking \"Apply\". This should then download xarray for you (may take a few minutes)."
   ]
  },
  {
   "cell_type": "markdown",
   "metadata": {},
   "source": [
    "### Opening a netCDF file and reading data"
   ]
  },
  {
   "cell_type": "markdown",
   "metadata": {},
   "source": [
    "As with all additional Python packages (like `numpy`) we start by importing the module. This time we're going to use the shorthand `xr` to access functions from the module:"
   ]
  },
  {
   "cell_type": "code",
   "execution_count": 1,
   "metadata": {},
   "outputs": [],
   "source": [
    "import xarray as xr"
   ]
  },
  {
   "cell_type": "markdown",
   "metadata": {},
   "source": [
    "We can now open a netCDF file and take a look. This contains similar data to the text file used in the previous chapter but now the file is in a different format and cannot be opened in a text editor."
   ]
  },
  {
   "cell_type": "code",
   "execution_count": 2,
   "metadata": {},
   "outputs": [],
   "source": [
    "filename = \"data/AGAGE-GC-FID_MHD_19940101_ch4-10m.nc\""
   ]
  },
  {
   "cell_type": "code",
   "execution_count": 3,
   "metadata": {},
   "outputs": [],
   "source": [
    "ds = xr.open_dataset(filename)"
   ]
  },
  {
   "cell_type": "markdown",
   "metadata": {
    "collapsed": true
   },
   "source": [
    "We have now created what's called a `Dataset`. This is basically a collection of data which has been nicely labelled.\n",
    "Let's have a look at what a Dataset looks like:"
   ]
  },
  {
   "cell_type": "code",
   "execution_count": 4,
   "metadata": {},
   "outputs": [
    {
     "name": "stdout",
     "output_type": "stream",
     "text": [
      "<xarray.Dataset>\n",
      "Dimensions:               (time: 264373)\n",
      "Coordinates:\n",
      "  * time                  (time) datetime64[ns] 1994-02-17T20:18:35 ... 2018-07-12T03:17:35\n",
      "Data variables:\n",
      "    ch4                   (time) float64 ...\n",
      "    ch4_repeatability     (time) float64 ...\n",
      "    ch4_status_flag       (time) int64 ...\n",
      "    ch4_integration_flag  (time) int64 ...\n",
      "Attributes:\n",
      "    comment:              Gas chromatograph measurements. Output from GCWerks.\n",
      "    Source:               In situ measurements of air\n",
      "    Processed by:         Matt Rigby, University of Bristol (matt.rigby@brist...\n",
      "    data_owner_email:     s.odoherty@bristol.ac.uk\n",
      "    data_owner:           Simon O'Doherty\n",
      "    inlet_height_magl:    10.0\n",
      "    Conventions:          CF-1.6\n",
      "    Conditions of use:    Ensure that you contact the data owner at the outse...\n",
      "    File created:         2018-07-12 15:55:18.691414\n",
      "    station_long_name:    Mace Head, Ireland\n",
      "    station_height_masl:  5.0\n",
      "    station_latitude:     53.32611\n",
      "    station_longitude:    -9.90389\n",
      "    Calibration_scale:    Tohoku\n",
      "    species:              ch4\n"
     ]
    }
   ],
   "source": [
    "print(ds)"
   ]
  },
  {
   "cell_type": "markdown",
   "metadata": {},
   "source": [
    "A dataset can contain up to four elements: Data Variables, Coordinates, Dimensions and Attributes.\n",
    "\n",
    "You shouldn't worry too much about the details but basically:\n",
    " - **Data Variables** contain the data, in this case methane measurements, errors and data quality flags.\n",
    " - **Coordinates** give us a label for that data, in this case the time each of the measurements were taken.\n",
    " - **Dimensions** tell us how many points there are on each axis.\n",
    " - **Attributes** provide extra information about the data such as who processed it, when was the file created etc"
   ]
  },
  {
   "cell_type": "markdown",
   "metadata": {},
   "source": [
    "To extract a particular data variable from the dataset we use its name as listed above. So for $\\mathrm{CH_4}$ measurements we use the name \"ch4\". This can be done in one of two ways:"
   ]
  },
  {
   "cell_type": "code",
   "execution_count": 5,
   "metadata": {},
   "outputs": [
    {
     "name": "stdout",
     "output_type": "stream",
     "text": [
      "<xarray.DataArray 'ch4' (time: 264373)>\n",
      "[264373 values with dtype=float64]\n",
      "Coordinates:\n",
      "  * time     (time) datetime64[ns] 1994-02-17T20:18:35 ... 2018-07-12T03:17:35\n",
      "Attributes:\n",
      "    standard_name:         mole_fraction_of_methane_in_air\n",
      "    long_name:             mole_fraction_of_methane_in_air\n",
      "    units:                 1e-9\n",
      "    ancilliary_variables:  ch4_repeatability ch4_status_flag ch4_integration_...\n"
     ]
    }
   ],
   "source": [
    "meas1 = ds.ch4\n",
    "print(meas1)"
   ]
  },
  {
   "cell_type": "markdown",
   "metadata": {},
   "source": [
    "Accessing a data variable using this \"dot syntax\" has some downsides. For example, if the name clashes with an existing function name in a `Dataset` then this syntax will not work. You will see this style used in code but I recommend using the following syntax if possible:"
   ]
  },
  {
   "cell_type": "code",
   "execution_count": 6,
   "metadata": {},
   "outputs": [
    {
     "name": "stdout",
     "output_type": "stream",
     "text": [
      "<xarray.DataArray 'ch4' (time: 264373)>\n",
      "[264373 values with dtype=float64]\n",
      "Coordinates:\n",
      "  * time     (time) datetime64[ns] 1994-02-17T20:18:35 ... 2018-07-12T03:17:35\n",
      "Attributes:\n",
      "    standard_name:         mole_fraction_of_methane_in_air\n",
      "    long_name:             mole_fraction_of_methane_in_air\n",
      "    units:                 1e-9\n",
      "    ancilliary_variables:  ch4_repeatability ch4_status_flag ch4_integration_...\n"
     ]
    }
   ],
   "source": [
    "meas2 = ds[\"ch4\"]\n",
    "print(meas2)"
   ]
  },
  {
   "cell_type": "markdown",
   "metadata": {},
   "source": [
    "You may notice that this output is a new object called a `DataArray`. It's very similar to a `Dataset` but it contains one piece of data rather than the several we can see in the `Dataset` above. `Dataset`s and `DataArray`s are very similar in their functionality."
   ]
  },
  {
   "cell_type": "markdown",
   "metadata": {},
   "source": [
    "More than this, if really we just want the actual values rather than another object then this can be extracted using the `values` attribute:"
   ]
  },
  {
   "cell_type": "code",
   "execution_count": 7,
   "metadata": {},
   "outputs": [
    {
     "name": "stdout",
     "output_type": "stream",
     "text": [
      "[1835.68  1840.116 1846.133 ... 1926.983 1917.464 1948.148]\n",
      "<class 'numpy.ndarray'>\n",
      "264373\n",
      "(264373,)\n"
     ]
    }
   ],
   "source": [
    "meas = ds['ch4'].values\n",
    "print(meas)\n",
    "print(type(meas))\n",
    "print(len(meas))\n",
    "print(meas.shape)"
   ]
  },
  {
   "cell_type": "markdown",
   "metadata": {},
   "source": [
    "As you can see when we asked what type the object was, this is just a numpy array and can be treated in the same way as we have seen previously e.g.:"
   ]
  },
  {
   "cell_type": "code",
   "execution_count": 1,
   "metadata": {},
   "outputs": [
    {
     "ename": "NameError",
     "evalue": "name 'ds' is not defined",
     "output_type": "error",
     "traceback": [
      "\u001b[1;31m---------------------------------------------------------------------------\u001b[0m",
      "\u001b[1;31mNameError\u001b[0m                                 Traceback (most recent call last)",
      "\u001b[1;32m<ipython-input-1-004657dd3ef0>\u001b[0m in \u001b[0;36m<module>\u001b[1;34m()\u001b[0m\n\u001b[0;32m      1\u001b[0m \u001b[1;32mimport\u001b[0m \u001b[0mnumpy\u001b[0m \u001b[1;32mas\u001b[0m \u001b[0mnp\u001b[0m\u001b[1;33m\u001b[0m\u001b[0m\n\u001b[1;32m----> 2\u001b[1;33m \u001b[0mprint\u001b[0m\u001b[1;33m(\u001b[0m\u001b[0mds\u001b[0m\u001b[1;33m[\u001b[0m\u001b[1;34m'ch4'\u001b[0m\u001b[1;33m]\u001b[0m\u001b[1;33m.\u001b[0m\u001b[0mvalues\u001b[0m\u001b[1;33m[\u001b[0m\u001b[1;36m0\u001b[0m\u001b[1;33m:\u001b[0m\u001b[1;36m5\u001b[0m\u001b[1;33m]\u001b[0m\u001b[1;33m)\u001b[0m\u001b[1;33m\u001b[0m\u001b[0m\n\u001b[0m\u001b[0;32m      3\u001b[0m \u001b[0mprint\u001b[0m\u001b[1;33m(\u001b[0m\u001b[0mnp\u001b[0m\u001b[1;33m.\u001b[0m\u001b[0msum\u001b[0m\u001b[1;33m(\u001b[0m\u001b[0mds\u001b[0m\u001b[1;33m[\u001b[0m\u001b[1;34m'ch4'\u001b[0m\u001b[1;33m]\u001b[0m\u001b[1;33m.\u001b[0m\u001b[0mvalues\u001b[0m\u001b[1;33m)\u001b[0m\u001b[1;33m)\u001b[0m\u001b[1;33m\u001b[0m\u001b[0m\n",
      "\u001b[1;31mNameError\u001b[0m: name 'ds' is not defined"
     ]
    }
   ],
   "source": [
    "print(ds['ch4'].values[0:5])\n",
    "print(np.sum(ds['ch4'].values))"
   ]
  },
  {
   "cell_type": "markdown",
   "metadata": {},
   "source": [
    "You may see that the second command (containing `np.sum`) returned an error. If so, this is because we haven't actually told Python about the `numpy` module since the previous chapter so to get this to run we'll need to include an `import` statement (only once per document):"
   ]
  },
  {
   "cell_type": "code",
   "execution_count": 12,
   "metadata": {},
   "outputs": [
    {
     "name": "stdout",
     "output_type": "stream",
     "text": [
      "497151687.12799984\n"
     ]
    }
   ],
   "source": [
    "import numpy as np\n",
    "print(np.sum(ds['ch4'].values))"
   ]
  },
  {
   "cell_type": "markdown",
   "metadata": {},
   "source": [
    "Another useful thing that can be done is to look at the dimensions of your `DataArray`: "
   ]
  },
  {
   "cell_type": "code",
   "execution_count": null,
   "metadata": {},
   "outputs": [],
   "source": [
    "print(ds['ch4'].dims)"
   ]
  },
  {
   "cell_type": "markdown",
   "metadata": {},
   "source": [
    "And we can extract the Coordinates associated with that label in the same way as we extracted the data variable earlier:"
   ]
  },
  {
   "cell_type": "code",
   "execution_count": null,
   "metadata": {},
   "outputs": [],
   "source": [
    "time = ds['time']\n",
    "print(time)"
   ]
  },
  {
   "cell_type": "code",
   "execution_count": null,
   "metadata": {
    "scrolled": true
   },
   "outputs": [],
   "source": [
    "print(time.values)"
   ]
  },
  {
   "cell_type": "markdown",
   "metadata": {},
   "source": [
    "### Common Pitfalls"
   ]
  },
  {
   "cell_type": "markdown",
   "metadata": {},
   "source": [
    "As `xarray.DataArray`s contain, and work similarly to `numpy.array`, it is easy to make the mistake of assuming they work exactly the same. Some functionality is subtly different from `numpy` and using a `DataArray` when an `array` is expected can lead to some confusing error messages. It can often be worthwhile trying to add a `.values` to your `DataArray` to see if this solves your problem. If this fixes the error you can either continue with your `array` or (preferably) you can look up the correct way to achieve the same result with the `DataArray`."
   ]
  },
  {
   "cell_type": "code",
   "execution_count": 28,
   "metadata": {},
   "outputs": [
    {
     "name": "stdout",
     "output_type": "stream",
     "text": [
      "<xarray.DataArray (x: 3, y: 3, time: 1)>\n",
      "array([[[1],\n",
      "        [2],\n",
      "        [3]],\n",
      "\n",
      "       [[2],\n",
      "        [4],\n",
      "        [6]],\n",
      "\n",
      "       [[3],\n",
      "        [6],\n",
      "        [9]]])\n",
      "Coordinates:\n",
      "  * x        (x) int32 1 2 3\n",
      "  * y        (y) int32 1 2 3\n",
      "  * time     (time) int32 1\n"
     ]
    },
    {
     "ename": "IndexError",
     "evalue": "Unlabeled multi-dimensional array cannot be used for indexing: x",
     "output_type": "error",
     "traceback": [
      "\u001b[1;31m---------------------------------------------------------------------------\u001b[0m",
      "\u001b[1;31mIndexError\u001b[0m                                Traceback (most recent call last)",
      "\u001b[1;32m<ipython-input-28-7994feb234f2>\u001b[0m in \u001b[0;36m<module>\u001b[1;34m\u001b[0m\n\u001b[0;32m     13\u001b[0m \u001b[1;33m\u001b[0m\u001b[0m\n\u001b[0;32m     14\u001b[0m \u001b[1;31m#try (incorrectly) to select only values where x is less than 2:\u001b[0m\u001b[1;33m\u001b[0m\u001b[1;33m\u001b[0m\u001b[1;33m\u001b[0m\u001b[0m\n\u001b[1;32m---> 15\u001b[1;33m \u001b[0mprint\u001b[0m\u001b[1;33m(\u001b[0m\u001b[0mexample_array\u001b[0m\u001b[1;33m[\u001b[0m \u001b[1;33m(\u001b[0m\u001b[0mXX\u001b[0m \u001b[1;33m<\u001b[0m \u001b[1;36m2\u001b[0m\u001b[1;33m)\u001b[0m\u001b[1;33m,\u001b[0m\u001b[1;32mNone\u001b[0m\u001b[1;33m]\u001b[0m\u001b[1;33m)\u001b[0m\u001b[1;33m\u001b[0m\u001b[1;33m\u001b[0m\u001b[0m\n\u001b[0m",
      "\u001b[1;32m~\\AppData\\Local\\Continuum\\anaconda3\\lib\\site-packages\\xarray\\core\\dataarray.py\u001b[0m in \u001b[0;36m__getitem__\u001b[1;34m(self, key)\u001b[0m\n\u001b[0;32m    625\u001b[0m         \u001b[1;32melse\u001b[0m\u001b[1;33m:\u001b[0m\u001b[1;33m\u001b[0m\u001b[1;33m\u001b[0m\u001b[0m\n\u001b[0;32m    626\u001b[0m             \u001b[1;31m# xarray-style array indexing\u001b[0m\u001b[1;33m\u001b[0m\u001b[1;33m\u001b[0m\u001b[1;33m\u001b[0m\u001b[0m\n\u001b[1;32m--> 627\u001b[1;33m             \u001b[1;32mreturn\u001b[0m \u001b[0mself\u001b[0m\u001b[1;33m.\u001b[0m\u001b[0misel\u001b[0m\u001b[1;33m(\u001b[0m\u001b[0mindexers\u001b[0m\u001b[1;33m=\u001b[0m\u001b[0mself\u001b[0m\u001b[1;33m.\u001b[0m\u001b[0m_item_key_to_dict\u001b[0m\u001b[1;33m(\u001b[0m\u001b[0mkey\u001b[0m\u001b[1;33m)\u001b[0m\u001b[1;33m)\u001b[0m\u001b[1;33m\u001b[0m\u001b[1;33m\u001b[0m\u001b[0m\n\u001b[0m\u001b[0;32m    628\u001b[0m \u001b[1;33m\u001b[0m\u001b[0m\n\u001b[0;32m    629\u001b[0m     \u001b[1;32mdef\u001b[0m \u001b[0m__setitem__\u001b[0m\u001b[1;33m(\u001b[0m\u001b[0mself\u001b[0m\u001b[1;33m,\u001b[0m \u001b[0mkey\u001b[0m\u001b[1;33m:\u001b[0m \u001b[0mAny\u001b[0m\u001b[1;33m,\u001b[0m \u001b[0mvalue\u001b[0m\u001b[1;33m:\u001b[0m \u001b[0mAny\u001b[0m\u001b[1;33m)\u001b[0m \u001b[1;33m->\u001b[0m \u001b[1;32mNone\u001b[0m\u001b[1;33m:\u001b[0m\u001b[1;33m\u001b[0m\u001b[1;33m\u001b[0m\u001b[0m\n",
      "\u001b[1;32m~\\AppData\\Local\\Continuum\\anaconda3\\lib\\site-packages\\xarray\\core\\dataarray.py\u001b[0m in \u001b[0;36misel\u001b[1;34m(self, indexers, drop, **indexers_kwargs)\u001b[0m\n\u001b[0;32m    994\u001b[0m         \"\"\"\n\u001b[0;32m    995\u001b[0m         \u001b[0mindexers\u001b[0m \u001b[1;33m=\u001b[0m \u001b[0meither_dict_or_kwargs\u001b[0m\u001b[1;33m(\u001b[0m\u001b[0mindexers\u001b[0m\u001b[1;33m,\u001b[0m \u001b[0mindexers_kwargs\u001b[0m\u001b[1;33m,\u001b[0m \u001b[1;34m\"isel\"\u001b[0m\u001b[1;33m)\u001b[0m\u001b[1;33m\u001b[0m\u001b[1;33m\u001b[0m\u001b[0m\n\u001b[1;32m--> 996\u001b[1;33m         \u001b[0mds\u001b[0m \u001b[1;33m=\u001b[0m \u001b[0mself\u001b[0m\u001b[1;33m.\u001b[0m\u001b[0m_to_temp_dataset\u001b[0m\u001b[1;33m(\u001b[0m\u001b[1;33m)\u001b[0m\u001b[1;33m.\u001b[0m\u001b[0misel\u001b[0m\u001b[1;33m(\u001b[0m\u001b[0mdrop\u001b[0m\u001b[1;33m=\u001b[0m\u001b[0mdrop\u001b[0m\u001b[1;33m,\u001b[0m \u001b[0mindexers\u001b[0m\u001b[1;33m=\u001b[0m\u001b[0mindexers\u001b[0m\u001b[1;33m)\u001b[0m\u001b[1;33m\u001b[0m\u001b[1;33m\u001b[0m\u001b[0m\n\u001b[0m\u001b[0;32m    997\u001b[0m         \u001b[1;32mreturn\u001b[0m \u001b[0mself\u001b[0m\u001b[1;33m.\u001b[0m\u001b[0m_from_temp_dataset\u001b[0m\u001b[1;33m(\u001b[0m\u001b[0mds\u001b[0m\u001b[1;33m)\u001b[0m\u001b[1;33m\u001b[0m\u001b[1;33m\u001b[0m\u001b[0m\n\u001b[0;32m    998\u001b[0m \u001b[1;33m\u001b[0m\u001b[0m\n",
      "\u001b[1;32m~\\AppData\\Local\\Continuum\\anaconda3\\lib\\site-packages\\xarray\\core\\dataset.py\u001b[0m in \u001b[0;36misel\u001b[1;34m(self, indexers, drop, **indexers_kwargs)\u001b[0m\n\u001b[0;32m   1901\u001b[0m         \u001b[0mindexers\u001b[0m \u001b[1;33m=\u001b[0m \u001b[0meither_dict_or_kwargs\u001b[0m\u001b[1;33m(\u001b[0m\u001b[0mindexers\u001b[0m\u001b[1;33m,\u001b[0m \u001b[0mindexers_kwargs\u001b[0m\u001b[1;33m,\u001b[0m \u001b[1;34m\"isel\"\u001b[0m\u001b[1;33m)\u001b[0m\u001b[1;33m\u001b[0m\u001b[1;33m\u001b[0m\u001b[0m\n\u001b[0;32m   1902\u001b[0m \u001b[1;33m\u001b[0m\u001b[0m\n\u001b[1;32m-> 1903\u001b[1;33m         \u001b[0mindexers_list\u001b[0m \u001b[1;33m=\u001b[0m \u001b[0mself\u001b[0m\u001b[1;33m.\u001b[0m\u001b[0m_validate_indexers\u001b[0m\u001b[1;33m(\u001b[0m\u001b[0mindexers\u001b[0m\u001b[1;33m)\u001b[0m\u001b[1;33m\u001b[0m\u001b[1;33m\u001b[0m\u001b[0m\n\u001b[0m\u001b[0;32m   1904\u001b[0m \u001b[1;33m\u001b[0m\u001b[0m\n\u001b[0;32m   1905\u001b[0m         \u001b[0mvariables\u001b[0m \u001b[1;33m=\u001b[0m \u001b[0mOrderedDict\u001b[0m\u001b[1;33m(\u001b[0m\u001b[1;33m)\u001b[0m  \u001b[1;31m# type: OrderedDict[Hashable, Variable]\u001b[0m\u001b[1;33m\u001b[0m\u001b[1;33m\u001b[0m\u001b[0m\n",
      "\u001b[1;32m~\\AppData\\Local\\Continuum\\anaconda3\\lib\\site-packages\\xarray\\core\\dataset.py\u001b[0m in \u001b[0;36m_validate_indexers\u001b[1;34m(self, indexers)\u001b[0m\n\u001b[0;32m   1799\u001b[0m                     raise IndexError(\n\u001b[0;32m   1800\u001b[0m                         \u001b[1;34m\"Unlabeled multi-dimensional array cannot be \"\u001b[0m\u001b[1;33m\u001b[0m\u001b[1;33m\u001b[0m\u001b[0m\n\u001b[1;32m-> 1801\u001b[1;33m                         \u001b[1;34m\"used for indexing: {}\"\u001b[0m\u001b[1;33m.\u001b[0m\u001b[0mformat\u001b[0m\u001b[1;33m(\u001b[0m\u001b[0mk\u001b[0m\u001b[1;33m)\u001b[0m\u001b[1;33m\u001b[0m\u001b[1;33m\u001b[0m\u001b[0m\n\u001b[0m\u001b[0;32m   1802\u001b[0m                     )\n\u001b[0;32m   1803\u001b[0m \u001b[1;33m\u001b[0m\u001b[0m\n",
      "\u001b[1;31mIndexError\u001b[0m: Unlabeled multi-dimensional array cannot be used for indexing: x"
     ]
    }
   ],
   "source": [
    "#create a simple 3D DataArray to demonstrate with\n",
    "x = np.array([1,2,3])\n",
    "y = np.array([1,2,3])\n",
    "t = np.array([1])\n",
    "XX, YY = np.meshgrid(x, y)\n",
    "ZZ = np.expand_dims(XX * YY,axis=2)\n",
    "\n",
    "example_array = xr.DataArray(ZZ, dims=[\"x\",\"y\",\"time\"],\n",
    "                             coords={\"x\":x,\n",
    "                                    \"y\":y,\n",
    "                                    \"time\":t})\n",
    "print(example_array)\n",
    "\n",
    "#try (incorrectly) to select only values where x is less than 2:\n",
    "print(example_array[ (XX < 2),None])"
   ]
  },
  {
   "cell_type": "code",
   "execution_count": 32,
   "metadata": {},
   "outputs": [
    {
     "name": "stdout",
     "output_type": "stream",
     "text": [
      "[[[1]]\n",
      "\n",
      " [[2]]\n",
      "\n",
      " [[3]]]\n",
      "<xarray.DataArray (x: 1, y: 3, time: 1)>\n",
      "array([[[1.],\n",
      "        [2.],\n",
      "        [3.]]])\n",
      "Coordinates:\n",
      "  * x        (x) int32 1\n",
      "  * y        (y) int32 1 2 3\n",
      "  * time     (time) int32 1\n",
      "[[[1.]\n",
      "  [2.]\n",
      "  [3.]]]\n"
     ]
    }
   ],
   "source": [
    "#solving the problem with .values:\n",
    "print(example_array.values[ (XX < 2),None])\n",
    "#solving the problem with xarray functions:\n",
    "print(example_array.where(example_array.x < 2, drop=True))\n",
    "print(example_array.where(example_array.x < 2, drop=True).values)"
   ]
  },
  {
   "cell_type": "markdown",
   "metadata": {},
   "source": [
    "### Exercise"
   ]
  },
  {
   "cell_type": "markdown",
   "metadata": {},
   "source": [
    "In Spyder, open a new Python script file and write the code to do the following in it:"
   ]
  },
  {
   "cell_type": "markdown",
   "metadata": {},
   "source": [
    "1. Read in netCDF file \"ch4-anthro_SOUTHAMERICA_2012.nc\" and open as an `xarray.Dataset`. The file should be in the \"data\" subdirectory.\n",
    "2. Extract the \"flux\" data variable\n",
    "3. Extract the values from this data variable as a `numpy.array`\n",
    "4. Calculate the mean of these flux values\n",
    "\n",
    "### Bonus\n",
    "\n",
    " - Read netCDF file \"ch4-fire_SOUTHAMERICA_2012.nc\", extract values as before and calculate the sum for the September flux values.\n",
    "*Hint: Check the dimensions of the flux variable to see which axis relates to time*"
   ]
  },
  {
   "cell_type": "markdown",
   "metadata": {},
   "source": [
    "## Next Topic"
   ]
  },
  {
   "cell_type": "markdown",
   "metadata": {},
   "source": [
    "When ready you can move onto the next topic:\n",
    "\n",
    "### [Plotting using matplotlib](plotting.ipynb)"
   ]
  },
  {
   "cell_type": "markdown",
   "metadata": {},
   "source": [
    "To view the introduction page containing the list of topics click [here](introduction.ipynb)"
   ]
  }
 ],
 "metadata": {
  "kernelspec": {
   "display_name": "Python [conda env:acrg]",
   "language": "python",
   "name": "conda-env-acrg-py"
  },
  "language_info": {
   "codemirror_mode": {
    "name": "ipython",
    "version": 3
   },
   "file_extension": ".py",
   "mimetype": "text/x-python",
   "name": "python",
   "nbconvert_exporter": "python",
   "pygments_lexer": "ipython3",
   "version": "3.8.2"
  }
 },
 "nbformat": 4,
 "nbformat_minor": 2
}

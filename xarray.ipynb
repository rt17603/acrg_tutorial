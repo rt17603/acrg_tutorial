{
 "cells": [
  {
   "cell_type": "markdown",
   "metadata": {},
   "source": [
    "# xarray"
   ]
  },
  {
   "cell_type": "markdown",
   "metadata": {},
   "source": [
    "The `xarray` Python package can be used to extract netCDF files which are often used to distribute meteorological data and normally end with the extension \".nc\". More details of this package can be found at:\n",
    "\n",
    "http://xarray.pydata.org/en/stable/\n",
    "\n",
    "You won't need to go too much into detail of the features of xarray but it is useful to understand how to use it to read in files and how to extract data from those files."
   ]
  },
  {
   "cell_type": "markdown",
   "metadata": {},
   "source": [
    "### Installing xarray"
   ]
  },
  {
   "cell_type": "markdown",
   "metadata": {},
   "source": [
    "Unlike numpy, which is available by default, you will need to make sure that xarray is available within your Anaconda installation if you haven't already.\n",
    "\n",
    "Within Anaconda Navigator there should be a tab labelled \"Environments\". This will show you a list of currently installed packages. In the drop down if you select \"All\" (rather than \"Installed\") you can then select xarray from the list of available packages by ticking it (you can search to find it) and clicking \"Apply\". This should then download xarray for you (may take a few minutes)."
   ]
  },
  {
   "cell_type": "markdown",
   "metadata": {},
   "source": [
    "### Opening a netCDF file and reading data"
   ]
  },
  {
   "cell_type": "markdown",
   "metadata": {},
   "source": [
    "As with all additional python packages we can start by \"importing\" the module i.e. telling Python we want to use code from this package. This time we're going to use the shorthand \"xr\" to access functions from the module."
   ]
  },
  {
   "cell_type": "code",
   "execution_count": 1,
   "metadata": {
    "collapsed": true
   },
   "outputs": [],
   "source": [
    "import xarray as xr"
   ]
  },
  {
   "cell_type": "markdown",
   "metadata": {},
   "source": [
    "We can now open a netCDF file and take a look. The example file here contains methane observations for a particular site in Ireland called Mace Head."
   ]
  },
  {
   "cell_type": "code",
   "execution_count": 2,
   "metadata": {
    "collapsed": true
   },
   "outputs": [],
   "source": [
    "filename = \"data/AGAGE-GC-FID_MHD_19940101_ch4-10m.nc\""
   ]
  },
  {
   "cell_type": "code",
   "execution_count": 3,
   "metadata": {
    "collapsed": true
   },
   "outputs": [],
   "source": [
    "ds = xr.open_dataset(filename)"
   ]
  },
  {
   "cell_type": "markdown",
   "metadata": {
    "collapsed": true
   },
   "source": [
    "We have now created what's called a `Dataset`. This is basically a collection of data which can all been nicely labelled.\n",
    "Let's have a look at what a Dataset looks like:"
   ]
  },
  {
   "cell_type": "code",
   "execution_count": 4,
   "metadata": {},
   "outputs": [
    {
     "name": "stdout",
     "output_type": "stream",
     "text": [
      "<xarray.Dataset>\n",
      "Dimensions:               (time: 264373)\n",
      "Coordinates:\n",
      "  * time                  (time) datetime64[ns] 1994-02-17T20:18:35 ...\n",
      "Data variables:\n",
      "    ch4                   (time) float64 1.836e+03 1.84e+03 1.846e+03 ...\n",
      "    ch4_repeatability     (time) float64 1.987 1.987 1.987 2.685 2.685 2.685 ...\n",
      "    ch4_status_flag       (time) int64 0 0 0 0 0 0 0 0 0 0 0 0 0 0 0 0 0 0 0 ...\n",
      "    ch4_integration_flag  (time) int64 0 0 0 0 0 0 0 0 0 0 0 0 0 0 0 0 0 0 0 ...\n",
      "Attributes:\n",
      "    comment:              Gas chromatograph measurements. Output from GCWerks.\n",
      "    Source:               In situ measurements of air\n",
      "    Processed by:         Matt Rigby, University of Bristol (matt.rigby@brist...\n",
      "    data_owner_email:     s.odoherty@bristol.ac.uk\n",
      "    data_owner:           Simon O'Doherty\n",
      "    inlet_height_magl:    10.0\n",
      "    Conventions:          CF-1.6\n",
      "    Conditions of use:    Ensure that you contact the data owner at the outse...\n",
      "    File created:         2018-07-12 15:55:18.691414\n",
      "    station_long_name:    Mace Head, Ireland\n",
      "    station_height_masl:  5.0\n",
      "    station_latitude:     53.32611\n",
      "    station_longitude:    -9.90389\n",
      "    Calibration_scale:    Tohoku\n",
      "    species:              ch4\n"
     ]
    }
   ],
   "source": [
    "print(ds)"
   ]
  },
  {
   "cell_type": "markdown",
   "metadata": {},
   "source": [
    "A dataset can contain up to four elements: Data Variables, Coordinates, Dimensions and Attributes.\n",
    "\n",
    "You shouldn't worry too much about the details but basically:\n",
    " - Data Variables contain the data, in this case methane measurements, errors and data quality flags.\n",
    " - Coordinates give us a label for that data, in this case the time each of the measurements were taken.\n",
    " - Dimensions tell us how many points there are on each axis.\n",
    " - Attributes provide extra information about the data such as who processed it, when was the file created etc"
   ]
  },
  {
   "cell_type": "markdown",
   "metadata": {},
   "source": [
    "To extract a particular data variable from the dataset we use its name as listed above. So for $\\mathrm{CH_4}$ measurements we use the name \"ch4\". This can be done in one of two ways:"
   ]
  },
  {
   "cell_type": "code",
   "execution_count": 5,
   "metadata": {},
   "outputs": [
    {
     "name": "stdout",
     "output_type": "stream",
     "text": [
      "<xarray.DataArray 'ch4' (time: 264373)>\n",
      "[264373 values with dtype=float64]\n",
      "Coordinates:\n",
      "  * time     (time) datetime64[ns] 1994-02-17T20:18:35 1994-02-17T20:58:35 ...\n",
      "Attributes:\n",
      "    standard_name:         mole_fraction_of_methane_in_air\n",
      "    long_name:             mole_fraction_of_methane_in_air\n",
      "    units:                 1e-9\n",
      "    ancilliary_variables:  ch4_repeatability ch4_status_flag ch4_integration_...\n"
     ]
    }
   ],
   "source": [
    "meas1 = ds.ch4\n",
    "print(meas1)"
   ]
  },
  {
   "cell_type": "markdown",
   "metadata": {},
   "source": [
    "Accessing a data variable using this \"dot syntax\" has some downsides. For example, if the name clashes with an existing function name in a `Dataset` then this syntax will not work. You will see this style used in code but I recommend using the following syntax if possible:"
   ]
  },
  {
   "cell_type": "code",
   "execution_count": 6,
   "metadata": {},
   "outputs": [
    {
     "name": "stdout",
     "output_type": "stream",
     "text": [
      "<xarray.DataArray 'ch4' (time: 264373)>\n",
      "[264373 values with dtype=float64]\n",
      "Coordinates:\n",
      "  * time     (time) datetime64[ns] 1994-02-17T20:18:35 1994-02-17T20:58:35 ...\n",
      "Attributes:\n",
      "    standard_name:         mole_fraction_of_methane_in_air\n",
      "    long_name:             mole_fraction_of_methane_in_air\n",
      "    units:                 1e-9\n",
      "    ancilliary_variables:  ch4_repeatability ch4_status_flag ch4_integration_...\n"
     ]
    }
   ],
   "source": [
    "meas2 = ds[\"ch4\"]\n",
    "print(meas2)"
   ]
  },
  {
   "cell_type": "markdown",
   "metadata": {},
   "source": [
    "You may notice that this output is a new object called a `DataArray`. It's very similar to a `Dataset` but it contains one piece of data rather than the several we can see in the `Dataset` above. `Dataset`s and `DataArray`s are very similar in their functionality."
   ]
  },
  {
   "cell_type": "markdown",
   "metadata": {},
   "source": [
    "More than this, if really we just want the actual values rather than another object then this can be extracted using the `values` attribute:"
   ]
  },
  {
   "cell_type": "code",
   "execution_count": 7,
   "metadata": {},
   "outputs": [
    {
     "name": "stdout",
     "output_type": "stream",
     "text": [
      "[ 1835.68   1840.116  1846.133 ...,  1926.983  1917.464  1948.148]\n",
      "<type 'numpy.ndarray'>\n",
      "264373\n",
      "(264373,)\n"
     ]
    }
   ],
   "source": [
    "meas = ds['ch4'].values\n",
    "print(meas)\n",
    "print(type(meas))\n",
    "print(len(meas))\n",
    "print(meas.shape)"
   ]
  },
  {
   "cell_type": "markdown",
   "metadata": {},
   "source": [
    "As you can see when we asked what type the object was, this is just a numpy array and can be treated in the same way as we have seen previously e.g.:"
   ]
  },
  {
   "cell_type": "code",
   "execution_count": 8,
   "metadata": {},
   "outputs": [
    {
     "name": "stdout",
     "output_type": "stream",
     "text": [
      "[ 1835.68   1840.116  1846.133  1858.575  1860.013]\n"
     ]
    },
    {
     "ename": "NameError",
     "evalue": "name 'np' is not defined",
     "output_type": "error",
     "traceback": [
      "\u001b[0;31m---------------------------------------------------------------------------\u001b[0m",
      "\u001b[0;31mNameError\u001b[0m                                 Traceback (most recent call last)",
      "\u001b[0;32m<ipython-input-8-9aeefada85c0>\u001b[0m in \u001b[0;36m<module>\u001b[0;34m()\u001b[0m\n\u001b[1;32m      1\u001b[0m \u001b[0;32mprint\u001b[0m\u001b[0;34m(\u001b[0m\u001b[0mds\u001b[0m\u001b[0;34m[\u001b[0m\u001b[0;34m'ch4'\u001b[0m\u001b[0;34m]\u001b[0m\u001b[0;34m.\u001b[0m\u001b[0mvalues\u001b[0m\u001b[0;34m[\u001b[0m\u001b[0;36m0\u001b[0m\u001b[0;34m:\u001b[0m\u001b[0;36m5\u001b[0m\u001b[0;34m]\u001b[0m\u001b[0;34m)\u001b[0m\u001b[0;34m\u001b[0m\u001b[0m\n\u001b[0;32m----> 2\u001b[0;31m \u001b[0;32mprint\u001b[0m\u001b[0;34m(\u001b[0m\u001b[0mnp\u001b[0m\u001b[0;34m.\u001b[0m\u001b[0msum\u001b[0m\u001b[0;34m(\u001b[0m\u001b[0mds\u001b[0m\u001b[0;34m[\u001b[0m\u001b[0;34m'ch4'\u001b[0m\u001b[0;34m]\u001b[0m\u001b[0;34m.\u001b[0m\u001b[0mvalues\u001b[0m\u001b[0;34m)\u001b[0m\u001b[0;34m)\u001b[0m\u001b[0;34m\u001b[0m\u001b[0m\n\u001b[0m",
      "\u001b[0;31mNameError\u001b[0m: name 'np' is not defined"
     ]
    }
   ],
   "source": [
    "print(ds['ch4'].values[0:5])\n",
    "print(np.sum(ds['ch4'].values))"
   ]
  },
  {
   "cell_type": "markdown",
   "metadata": {},
   "source": [
    "You may see that the second command (containing `np.sum`) returned an error. If so, this is because we haven't actually told Python about the `numpy` module since the previous chapter so to get this to run we'll need to include an `import` statement (only once):"
   ]
  },
  {
   "cell_type": "code",
   "execution_count": 9,
   "metadata": {},
   "outputs": [
    {
     "name": "stdout",
     "output_type": "stream",
     "text": [
      "497151687.128\n"
     ]
    }
   ],
   "source": [
    "import numpy as np\n",
    "print(np.sum(ds['ch4'].values))"
   ]
  },
  {
   "cell_type": "markdown",
   "metadata": {},
   "source": [
    "Another useful thing that can be done is to look at the dimensions of your `DataArray`: "
   ]
  },
  {
   "cell_type": "code",
   "execution_count": 10,
   "metadata": {},
   "outputs": [
    {
     "name": "stdout",
     "output_type": "stream",
     "text": [
      "(u'time',)\n"
     ]
    }
   ],
   "source": [
    "print(ds['ch4'].dims)"
   ]
  },
  {
   "cell_type": "markdown",
   "metadata": {},
   "source": [
    "And we can extract the Coordinates associated with that label in the same way as we extracted the data variable earlier:"
   ]
  },
  {
   "cell_type": "code",
   "execution_count": 11,
   "metadata": {},
   "outputs": [
    {
     "name": "stdout",
     "output_type": "stream",
     "text": [
      "<xarray.DataArray 'time' (time: 264373)>\n",
      "array(['1994-02-17T20:18:35.000000000', '1994-02-17T20:58:35.000000000',\n",
      "       '1994-02-17T21:38:35.000000000', ..., '2018-07-12T01:57:35.000000000',\n",
      "       '2018-07-12T02:37:35.000000000', '2018-07-12T03:17:35.000000000'], dtype='datetime64[ns]')\n",
      "Coordinates:\n",
      "  * time     (time) datetime64[ns] 1994-02-17T20:18:35 1994-02-17T20:58:35 ...\n",
      "Attributes:\n",
      "    label:                    left\n",
      "    comment:                  Time stamp corresponds to beginning of sampling...\n",
      "    sampling_period_seconds:  75\n"
     ]
    }
   ],
   "source": [
    "time = ds['time']\n",
    "print(time)"
   ]
  },
  {
   "cell_type": "code",
   "execution_count": 12,
   "metadata": {},
   "outputs": [
    {
     "name": "stdout",
     "output_type": "stream",
     "text": [
      "['1994-02-17T20:18:35.000000000' '1994-02-17T20:58:35.000000000'\n",
      " '1994-02-17T21:38:35.000000000' ..., '2018-07-12T01:57:35.000000000'\n",
      " '2018-07-12T02:37:35.000000000' '2018-07-12T03:17:35.000000000']\n"
     ]
    }
   ],
   "source": [
    "print(time.values)"
   ]
  },
  {
   "cell_type": "markdown",
   "metadata": {},
   "source": [
    "### Exercise"
   ]
  },
  {
   "cell_type": "markdown",
   "metadata": {},
   "source": [
    "In Spyder, open a new Python script file and write the code to do the following in it:"
   ]
  },
  {
   "cell_type": "markdown",
   "metadata": {},
   "source": [
    "1. Read in netCDF file \"`ch4-anthro_SOUTHAMERICA_2012.nc`\" and open as an `xarray Dataset`. The file should be in the `data/` subdirectory.\n",
    "2. Extract the \"flux\" data variable\n",
    "3. Extract the values from this data variable as a numpy array\n",
    "4. Calculate the mean of these flux values\n",
    "### Bonus: \n",
    "5. Read netCDF file \"`ch4-anthro_SOUTHAMERICA_2012.nc`\", extract values as before and calculate the sum for the September flux values.\n",
    "*Hint: Check the dimensions of the flux variable to see which axis relates to time*"
   ]
  },
  {
   "cell_type": "markdown",
   "metadata": {},
   "source": [
    "## Next Topic"
   ]
  },
  {
   "cell_type": "markdown",
   "metadata": {},
   "source": [
    "When ready you can move onto the next topic:\n",
    "\n",
    "### [Plotting using matplotlib](plotting.ipynb)"
   ]
  },
  {
   "cell_type": "markdown",
   "metadata": {},
   "source": [
    "To view the introduction page containing the list of topics click [here](introduction.ipynb)"
   ]
  }
 ],
 "metadata": {
  "kernelspec": {
   "display_name": "Python [default]",
   "language": "python",
   "name": "python2"
  },
  "language_info": {
   "codemirror_mode": {
    "name": "ipython",
    "version": 2
   },
   "file_extension": ".py",
   "mimetype": "text/x-python",
   "name": "python",
   "nbconvert_exporter": "python",
   "pygments_lexer": "ipython2",
   "version": "2.7.15"
  }
 },
 "nbformat": 4,
 "nbformat_minor": 2
}

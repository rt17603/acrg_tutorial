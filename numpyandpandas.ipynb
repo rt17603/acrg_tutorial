{
 "cells": [
  {
   "cell_type": "markdown",
   "metadata": {},
   "source": [
    "# Numpy and Pandas\n",
    "\n",
    "## Numpy\n",
    "\n",
    "A collection of many functions is called a module.\n",
    "Luckily many useful modules already exist which perfom many of the tasks that we need to do.\n",
    "One of the most useful modules is called *numpy* (**num**erical **Py**thon) – it contains many functions to deal with numerical programming.\n",
    "\n",
    "To use the functions contained within `numpy` we first need to *import* it."
   ]
  },
  {
   "cell_type": "code",
   "execution_count": 1,
   "metadata": {},
   "outputs": [],
   "source": [
    "import numpy as np"
   ]
  },
  {
   "cell_type": "markdown",
   "metadata": {},
   "source": [
    "The `as` statement gives us a shorthand to use in the code when we want to access numpy, in this case `np`.\n",
    "\n",
    "To use the functions within numpy, e.g. the square root function, we can type:"
   ]
  },
  {
   "cell_type": "code",
   "execution_count": 2,
   "metadata": {},
   "outputs": [
    {
     "data": {
      "text/plain": [
       "3.0"
      ]
     },
     "execution_count": 2,
     "metadata": {},
     "output_type": "execute_result"
    }
   ],
   "source": [
    "np.sqrt(9.)"
   ]
  },
  {
   "cell_type": "markdown",
   "metadata": {},
   "source": [
    "where we need the `np.` at the start of the function to tell python that it's contained within the numpy module.\n",
    "\n",
    "The `numpy` is also useful as we can create something called an *array* and assign it to a variable. This is a collection of numbers similar to a vector.\n",
    "For example we could create an array using:"
   ]
  },
  {
   "cell_type": "code",
   "execution_count": 3,
   "metadata": {},
   "outputs": [],
   "source": [
    "arr = np.array([1.,1.,2.,3.,5.,8.])"
   ]
  },
  {
   "cell_type": "markdown",
   "metadata": {},
   "source": [
    "We can then do the same to all elements of the array at once similar to with single numbers, e.g. to multiply all numbers in the array by two:"
   ]
  },
  {
   "cell_type": "markdown",
   "metadata": {},
   "source": [
    "### Numpy types and datetime objects\n",
    "One important feature of a `numpy` array is that (unlike a list) all values contained within it must be of the same *type*. That means a numpy array can only contain e.g. floats, integers OR strings etc. and not a combination. To do this you can use the `dtype` attribute:"
   ]
  },
  {
   "cell_type": "code",
   "execution_count": 4,
   "metadata": {},
   "outputs": [
    {
     "data": {
      "text/plain": [
       "dtype('float64')"
      ]
     },
     "execution_count": 4,
     "metadata": {},
     "output_type": "execute_result"
    }
   ],
   "source": [
    "arr.dtype"
   ]
  },
  {
   "cell_type": "markdown",
   "metadata": {},
   "source": [
    "The benefit of this is that `numpy` can apply the same functionality to every value because it knows what type of object it is. For instance every element of an array can be multipled by 2 at once using this simple functionality:"
   ]
  },
  {
   "cell_type": "code",
   "execution_count": 5,
   "metadata": {},
   "outputs": [
    {
     "name": "stdout",
     "output_type": "stream",
     "text": [
      "[ 2.  2.  4.  6. 10. 16.]\n"
     ]
    }
   ],
   "source": [
    "print(arr * 2)"
   ]
  },
  {
   "cell_type": "markdown",
   "metadata": {},
   "source": [
    "When creating an array `numpy` is clever enough to be able to work out what the `dtype` is. In the example above decimal numbers were included so `numpy` decided that this array should contain float objects (the name for decimal values in python). However, it is also possible to tell `numpy` what type you want in an array by passing an argument for the `dtype`:"
   ]
  },
  {
   "cell_type": "code",
   "execution_count": 6,
   "metadata": {},
   "outputs": [
    {
     "name": "stdout",
     "output_type": "stream",
     "text": [
      "float64\n"
     ]
    }
   ],
   "source": [
    "arr2 = np.array([1,2,3,4,5],dtype=\"float\")\n",
    "print(arr2.dtype)"
   ]
  },
  {
   "cell_type": "markdown",
   "metadata": {},
   "source": [
    "In this case even though the numbers passed were integers, we could tell `numpy` to create float objects instead. This is important when introducing another object which you will see called a `datetime64` object. This is a special object for understanding date and time strings"
   ]
  },
  {
   "cell_type": "code",
   "execution_count": 7,
   "metadata": {},
   "outputs": [
    {
     "name": "stdout",
     "output_type": "stream",
     "text": [
      "datetime64[D]\n"
     ]
    }
   ],
   "source": [
    "arr_dt = np.array([\"2012-01-01\",\"2013-01-01\",\"2014-02-01\"],dtype=\"datetime64\")\n",
    "print(arr_dt.dtype)"
   ]
  },
  {
   "cell_type": "markdown",
   "metadata": {},
   "source": [
    "As before we can then perform an operation, such as adding 2 days, and `numpy` understands how to interpret this:"
   ]
  },
  {
   "cell_type": "code",
   "execution_count": 8,
   "metadata": {},
   "outputs": [
    {
     "data": {
      "text/plain": [
       "array(['2012-01-03', '2013-01-03', '2014-02-03'], dtype='datetime64[D]')"
      ]
     },
     "execution_count": 8,
     "metadata": {},
     "output_type": "execute_result"
    }
   ],
   "source": [
    "arr_dt + 2"
   ]
  },
  {
   "cell_type": "markdown",
   "metadata": {},
   "source": [
    "The concept of datetime objects will come up again when we discuss `pandas` below and is used a lot when looking at timeseries data."
   ]
  },
  {
   "cell_type": "markdown",
   "metadata": {},
   "source": [
    "### Indexing\n",
    "Indexing in `numpy` works in similar way to python list objects and still starts from 0 rather than 1.\n",
    "For example, we can type:"
   ]
  },
  {
   "cell_type": "code",
   "execution_count": 9,
   "metadata": {},
   "outputs": [
    {
     "name": "stdout",
     "output_type": "stream",
     "text": [
      "4.0\n"
     ]
    }
   ],
   "source": [
    "print(arr[2] * 2)"
   ]
  },
  {
   "cell_type": "markdown",
   "metadata": {},
   "source": [
    "To access the first 3 elements of the array we can type:"
   ]
  },
  {
   "cell_type": "code",
   "execution_count": 10,
   "metadata": {},
   "outputs": [
    {
     "name": "stdout",
     "output_type": "stream",
     "text": [
      "[1. 1. 2.]\n"
     ]
    }
   ],
   "source": [
    "print(arr[0:3])"
   ]
  },
  {
   "cell_type": "markdown",
   "metadata": {},
   "source": [
    "That is all elements up to, but not including, the one with index 3. You'll get used to this sort of indexing system quite quickly.\n",
    "\n",
    "Just like for scalar variables, we can also perform a function on an array, for example to find the `mean` and `std` of an array we can type"
   ]
  },
  {
   "cell_type": "code",
   "execution_count": 11,
   "metadata": {},
   "outputs": [
    {
     "name": "stdout",
     "output_type": "stream",
     "text": [
      "Mean of array =  3.3333333333333335\n",
      "Standard deviation of array =  2.494438257849294\n"
     ]
    }
   ],
   "source": [
    "mean=np.mean(arr)\n",
    "std=np.std(arr)\n",
    "print(\"Mean of array = \",mean)\n",
    "print(\"Standard deviation of array = \",std)"
   ]
  },
  {
   "cell_type": "markdown",
   "metadata": {},
   "source": [
    "We can also replace one number or multiple numbers in the array by:"
   ]
  },
  {
   "cell_type": "code",
   "execution_count": 12,
   "metadata": {},
   "outputs": [
    {
     "name": "stdout",
     "output_type": "stream",
     "text": [
      "0.0\n"
     ]
    }
   ],
   "source": [
    "arr[0] = 0.\n",
    "print(arr[0])"
   ]
  },
  {
   "cell_type": "markdown",
   "metadata": {},
   "source": [
    "## Exercise\n",
    "\n",
    "1. Create a numpy array containing the following values:\n",
    "\n",
    "`[1.2, 3.8, 7.9, 4.5, 6.1]`\n",
    "2. Calculate the halved values of this array.\n",
    "3. Sort the array from lowest to highest values (see for details of relevant numpy functions - https://docs.scipy.org/doc/numpy/reference/routines.sort.html)\n",
    "4. Re-create this array but this time to include integer values rather than floats.\n",
    "\n",
    "**BONUS**\n",
    "5. Create an array containing datetimes for 5th March for the 2016-2019 period."
   ]
  },
  {
   "cell_type": "markdown",
   "metadata": {},
   "source": [
    "Overall, the `numpy` module is very powerful and has lots of functions available as well as useful tricks with arrays. Check out the numpy documentation https://docs.scipy.org/doc/numpy/reference/ for more information and we would encourage you all to use  this and the internet as much as possible."
   ]
  },
  {
   "cell_type": "markdown",
   "metadata": {},
   "source": [
    "# Pandas\n",
    "\n",
    "Another external module which we use is *pandas*. This is a more extensive data analysis package which is very useful for analysis data and for reading data files. This section will guide you through the steps to read in timeseries data in csv format using `pandas`, cut it down to the time period that you're interested in and to average the data into new chunks."
   ]
  },
  {
   "cell_type": "markdown",
   "metadata": {},
   "source": [
    "Like all modules we have to begin by importing it, using the shorthand `pd` to access the module,"
   ]
  },
  {
   "cell_type": "code",
   "execution_count": 13,
   "metadata": {},
   "outputs": [],
   "source": [
    "import pandas as pd"
   ]
  },
  {
   "cell_type": "markdown",
   "metadata": {},
   "source": [
    "Now we've imported the Pandas we can use one of its functions to read in a csv file.\n",
    "The csv file we will read in contains two-hourly methane measurements at the Mace Head measurement station in Ireland, which is run by ACRG, in 2014. The keyword `index_col=\"time\"` tells the function that the measurements are indexed by the column with the heading `\"time\"` and `\"parse_dates=True\"` tells it that that column contains times."
   ]
  },
  {
   "cell_type": "code",
   "execution_count": 14,
   "metadata": {},
   "outputs": [],
   "source": [
    "ch4data = pd.read_csv(\"data/ch4_macehead_2014.csv\", index_col=\"time\", parse_dates=True)"
   ]
  },
  {
   "cell_type": "markdown",
   "metadata": {},
   "source": [
    "We can take a look at some of the data by printing it to the screen,  "
   ]
  },
  {
   "cell_type": "code",
   "execution_count": 15,
   "metadata": {},
   "outputs": [
    {
     "data": {
      "text/html": [
       "<div>\n",
       "<style scoped>\n",
       "    .dataframe tbody tr th:only-of-type {\n",
       "        vertical-align: middle;\n",
       "    }\n",
       "\n",
       "    .dataframe tbody tr th {\n",
       "        vertical-align: top;\n",
       "    }\n",
       "\n",
       "    .dataframe thead th {\n",
       "        text-align: right;\n",
       "    }\n",
       "</style>\n",
       "<table border=\"1\" class=\"dataframe\">\n",
       "  <thead>\n",
       "    <tr style=\"text-align: right;\">\n",
       "      <th></th>\n",
       "      <th>mf</th>\n",
       "    </tr>\n",
       "    <tr>\n",
       "      <th>time</th>\n",
       "      <th></th>\n",
       "    </tr>\n",
       "  </thead>\n",
       "  <tbody>\n",
       "    <tr>\n",
       "      <th>2014-01-01 00:00:00</th>\n",
       "      <td>0.000002</td>\n",
       "    </tr>\n",
       "    <tr>\n",
       "      <th>2014-01-01 02:00:00</th>\n",
       "      <td>0.000002</td>\n",
       "    </tr>\n",
       "    <tr>\n",
       "      <th>2014-01-01 04:00:00</th>\n",
       "      <td>0.000002</td>\n",
       "    </tr>\n",
       "    <tr>\n",
       "      <th>2014-01-01 06:00:00</th>\n",
       "      <td>0.000002</td>\n",
       "    </tr>\n",
       "    <tr>\n",
       "      <th>2014-01-01 08:00:00</th>\n",
       "      <td>0.000002</td>\n",
       "    </tr>\n",
       "    <tr>\n",
       "      <th>2014-01-01 10:00:00</th>\n",
       "      <td>0.000002</td>\n",
       "    </tr>\n",
       "    <tr>\n",
       "      <th>2014-01-01 12:00:00</th>\n",
       "      <td>0.000002</td>\n",
       "    </tr>\n",
       "    <tr>\n",
       "      <th>2014-01-01 14:00:00</th>\n",
       "      <td>0.000002</td>\n",
       "    </tr>\n",
       "    <tr>\n",
       "      <th>2014-01-01 16:00:00</th>\n",
       "      <td>0.000002</td>\n",
       "    </tr>\n",
       "    <tr>\n",
       "      <th>2014-01-01 18:00:00</th>\n",
       "      <td>0.000002</td>\n",
       "    </tr>\n",
       "    <tr>\n",
       "      <th>2014-01-01 20:00:00</th>\n",
       "      <td>0.000002</td>\n",
       "    </tr>\n",
       "    <tr>\n",
       "      <th>2014-01-01 22:00:00</th>\n",
       "      <td>0.000002</td>\n",
       "    </tr>\n",
       "    <tr>\n",
       "      <th>2014-01-02 00:00:00</th>\n",
       "      <td>0.000002</td>\n",
       "    </tr>\n",
       "    <tr>\n",
       "      <th>2014-01-02 02:00:00</th>\n",
       "      <td>0.000002</td>\n",
       "    </tr>\n",
       "    <tr>\n",
       "      <th>2014-01-02 04:00:00</th>\n",
       "      <td>0.000002</td>\n",
       "    </tr>\n",
       "    <tr>\n",
       "      <th>2014-01-02 06:00:00</th>\n",
       "      <td>0.000002</td>\n",
       "    </tr>\n",
       "    <tr>\n",
       "      <th>2014-01-02 08:00:00</th>\n",
       "      <td>0.000002</td>\n",
       "    </tr>\n",
       "    <tr>\n",
       "      <th>2014-01-02 10:00:00</th>\n",
       "      <td>0.000002</td>\n",
       "    </tr>\n",
       "    <tr>\n",
       "      <th>2014-01-02 12:00:00</th>\n",
       "      <td>0.000002</td>\n",
       "    </tr>\n",
       "    <tr>\n",
       "      <th>2014-01-02 14:00:00</th>\n",
       "      <td>0.000002</td>\n",
       "    </tr>\n",
       "    <tr>\n",
       "      <th>2014-01-02 16:00:00</th>\n",
       "      <td>0.000002</td>\n",
       "    </tr>\n",
       "    <tr>\n",
       "      <th>2014-01-02 18:00:00</th>\n",
       "      <td>0.000002</td>\n",
       "    </tr>\n",
       "    <tr>\n",
       "      <th>2014-01-02 20:00:00</th>\n",
       "      <td>0.000002</td>\n",
       "    </tr>\n",
       "    <tr>\n",
       "      <th>2014-01-02 22:00:00</th>\n",
       "      <td>0.000002</td>\n",
       "    </tr>\n",
       "    <tr>\n",
       "      <th>2014-01-03 00:00:00</th>\n",
       "      <td>0.000002</td>\n",
       "    </tr>\n",
       "    <tr>\n",
       "      <th>2014-01-03 02:00:00</th>\n",
       "      <td>0.000002</td>\n",
       "    </tr>\n",
       "    <tr>\n",
       "      <th>2014-01-03 04:00:00</th>\n",
       "      <td>0.000002</td>\n",
       "    </tr>\n",
       "    <tr>\n",
       "      <th>2014-01-03 06:00:00</th>\n",
       "      <td>0.000002</td>\n",
       "    </tr>\n",
       "    <tr>\n",
       "      <th>2014-01-03 08:00:00</th>\n",
       "      <td>0.000002</td>\n",
       "    </tr>\n",
       "    <tr>\n",
       "      <th>2014-01-03 10:00:00</th>\n",
       "      <td>0.000002</td>\n",
       "    </tr>\n",
       "    <tr>\n",
       "      <th>...</th>\n",
       "      <td>...</td>\n",
       "    </tr>\n",
       "    <tr>\n",
       "      <th>2014-12-29 12:00:00</th>\n",
       "      <td>0.000002</td>\n",
       "    </tr>\n",
       "    <tr>\n",
       "      <th>2014-12-29 14:00:00</th>\n",
       "      <td>0.000002</td>\n",
       "    </tr>\n",
       "    <tr>\n",
       "      <th>2014-12-29 16:00:00</th>\n",
       "      <td>0.000002</td>\n",
       "    </tr>\n",
       "    <tr>\n",
       "      <th>2014-12-29 18:00:00</th>\n",
       "      <td>0.000002</td>\n",
       "    </tr>\n",
       "    <tr>\n",
       "      <th>2014-12-29 20:00:00</th>\n",
       "      <td>0.000002</td>\n",
       "    </tr>\n",
       "    <tr>\n",
       "      <th>2014-12-29 22:00:00</th>\n",
       "      <td>0.000002</td>\n",
       "    </tr>\n",
       "    <tr>\n",
       "      <th>2014-12-30 00:00:00</th>\n",
       "      <td>0.000002</td>\n",
       "    </tr>\n",
       "    <tr>\n",
       "      <th>2014-12-30 02:00:00</th>\n",
       "      <td>0.000002</td>\n",
       "    </tr>\n",
       "    <tr>\n",
       "      <th>2014-12-30 04:00:00</th>\n",
       "      <td>0.000002</td>\n",
       "    </tr>\n",
       "    <tr>\n",
       "      <th>2014-12-30 06:00:00</th>\n",
       "      <td>0.000002</td>\n",
       "    </tr>\n",
       "    <tr>\n",
       "      <th>2014-12-30 08:00:00</th>\n",
       "      <td>0.000002</td>\n",
       "    </tr>\n",
       "    <tr>\n",
       "      <th>2014-12-30 10:00:00</th>\n",
       "      <td>0.000002</td>\n",
       "    </tr>\n",
       "    <tr>\n",
       "      <th>2014-12-30 12:00:00</th>\n",
       "      <td>0.000002</td>\n",
       "    </tr>\n",
       "    <tr>\n",
       "      <th>2014-12-30 14:00:00</th>\n",
       "      <td>0.000002</td>\n",
       "    </tr>\n",
       "    <tr>\n",
       "      <th>2014-12-30 16:00:00</th>\n",
       "      <td>0.000002</td>\n",
       "    </tr>\n",
       "    <tr>\n",
       "      <th>2014-12-30 18:00:00</th>\n",
       "      <td>0.000002</td>\n",
       "    </tr>\n",
       "    <tr>\n",
       "      <th>2014-12-30 20:00:00</th>\n",
       "      <td>0.000002</td>\n",
       "    </tr>\n",
       "    <tr>\n",
       "      <th>2014-12-30 22:00:00</th>\n",
       "      <td>0.000002</td>\n",
       "    </tr>\n",
       "    <tr>\n",
       "      <th>2014-12-31 00:00:00</th>\n",
       "      <td>0.000002</td>\n",
       "    </tr>\n",
       "    <tr>\n",
       "      <th>2014-12-31 02:00:00</th>\n",
       "      <td>0.000002</td>\n",
       "    </tr>\n",
       "    <tr>\n",
       "      <th>2014-12-31 04:00:00</th>\n",
       "      <td>0.000002</td>\n",
       "    </tr>\n",
       "    <tr>\n",
       "      <th>2014-12-31 06:00:00</th>\n",
       "      <td>0.000002</td>\n",
       "    </tr>\n",
       "    <tr>\n",
       "      <th>2014-12-31 08:00:00</th>\n",
       "      <td>0.000002</td>\n",
       "    </tr>\n",
       "    <tr>\n",
       "      <th>2014-12-31 10:00:00</th>\n",
       "      <td>0.000002</td>\n",
       "    </tr>\n",
       "    <tr>\n",
       "      <th>2014-12-31 12:00:00</th>\n",
       "      <td>0.000002</td>\n",
       "    </tr>\n",
       "    <tr>\n",
       "      <th>2014-12-31 14:00:00</th>\n",
       "      <td>0.000002</td>\n",
       "    </tr>\n",
       "    <tr>\n",
       "      <th>2014-12-31 16:00:00</th>\n",
       "      <td>0.000002</td>\n",
       "    </tr>\n",
       "    <tr>\n",
       "      <th>2014-12-31 18:00:00</th>\n",
       "      <td>0.000002</td>\n",
       "    </tr>\n",
       "    <tr>\n",
       "      <th>2014-12-31 20:00:00</th>\n",
       "      <td>0.000002</td>\n",
       "    </tr>\n",
       "    <tr>\n",
       "      <th>2014-12-31 22:00:00</th>\n",
       "      <td>0.000002</td>\n",
       "    </tr>\n",
       "  </tbody>\n",
       "</table>\n",
       "<p>4380 rows × 1 columns</p>\n",
       "</div>"
      ],
      "text/plain": [
       "                           mf\n",
       "time                         \n",
       "2014-01-01 00:00:00  0.000002\n",
       "2014-01-01 02:00:00  0.000002\n",
       "2014-01-01 04:00:00  0.000002\n",
       "2014-01-01 06:00:00  0.000002\n",
       "2014-01-01 08:00:00  0.000002\n",
       "2014-01-01 10:00:00  0.000002\n",
       "2014-01-01 12:00:00  0.000002\n",
       "2014-01-01 14:00:00  0.000002\n",
       "2014-01-01 16:00:00  0.000002\n",
       "2014-01-01 18:00:00  0.000002\n",
       "2014-01-01 20:00:00  0.000002\n",
       "2014-01-01 22:00:00  0.000002\n",
       "2014-01-02 00:00:00  0.000002\n",
       "2014-01-02 02:00:00  0.000002\n",
       "2014-01-02 04:00:00  0.000002\n",
       "2014-01-02 06:00:00  0.000002\n",
       "2014-01-02 08:00:00  0.000002\n",
       "2014-01-02 10:00:00  0.000002\n",
       "2014-01-02 12:00:00  0.000002\n",
       "2014-01-02 14:00:00  0.000002\n",
       "2014-01-02 16:00:00  0.000002\n",
       "2014-01-02 18:00:00  0.000002\n",
       "2014-01-02 20:00:00  0.000002\n",
       "2014-01-02 22:00:00  0.000002\n",
       "2014-01-03 00:00:00  0.000002\n",
       "2014-01-03 02:00:00  0.000002\n",
       "2014-01-03 04:00:00  0.000002\n",
       "2014-01-03 06:00:00  0.000002\n",
       "2014-01-03 08:00:00  0.000002\n",
       "2014-01-03 10:00:00  0.000002\n",
       "...                       ...\n",
       "2014-12-29 12:00:00  0.000002\n",
       "2014-12-29 14:00:00  0.000002\n",
       "2014-12-29 16:00:00  0.000002\n",
       "2014-12-29 18:00:00  0.000002\n",
       "2014-12-29 20:00:00  0.000002\n",
       "2014-12-29 22:00:00  0.000002\n",
       "2014-12-30 00:00:00  0.000002\n",
       "2014-12-30 02:00:00  0.000002\n",
       "2014-12-30 04:00:00  0.000002\n",
       "2014-12-30 06:00:00  0.000002\n",
       "2014-12-30 08:00:00  0.000002\n",
       "2014-12-30 10:00:00  0.000002\n",
       "2014-12-30 12:00:00  0.000002\n",
       "2014-12-30 14:00:00  0.000002\n",
       "2014-12-30 16:00:00  0.000002\n",
       "2014-12-30 18:00:00  0.000002\n",
       "2014-12-30 20:00:00  0.000002\n",
       "2014-12-30 22:00:00  0.000002\n",
       "2014-12-31 00:00:00  0.000002\n",
       "2014-12-31 02:00:00  0.000002\n",
       "2014-12-31 04:00:00  0.000002\n",
       "2014-12-31 06:00:00  0.000002\n",
       "2014-12-31 08:00:00  0.000002\n",
       "2014-12-31 10:00:00  0.000002\n",
       "2014-12-31 12:00:00  0.000002\n",
       "2014-12-31 14:00:00  0.000002\n",
       "2014-12-31 16:00:00  0.000002\n",
       "2014-12-31 18:00:00  0.000002\n",
       "2014-12-31 20:00:00  0.000002\n",
       "2014-12-31 22:00:00  0.000002\n",
       "\n",
       "[4380 rows x 1 columns]"
      ]
     },
     "execution_count": 15,
     "metadata": {},
     "output_type": "execute_result"
    }
   ],
   "source": [
    "ch4data"
   ]
  },
  {
   "cell_type": "markdown",
   "metadata": {},
   "source": [
    "where the variable `\"ch4data\"` is known as a DataFrame and contains both information about both the measurment times and the measured mole fraction in air (`mf`).\n",
    "We can only see a small selection of the data when we print it to the screen so instead we will plot the data on a graph to look at the whole time series.\n",
    "You can do this simply by first importing a plotting module followed by a simple plot function (there will be much more on customising your plots later!),"
   ]
  },
  {
   "cell_type": "code",
   "execution_count": 16,
   "metadata": {},
   "outputs": [
    {
     "data": {
      "text/plain": [
       "[<matplotlib.lines.Line2D at 0x23c111f9438>]"
      ]
     },
     "execution_count": 16,
     "metadata": {},
     "output_type": "execute_result"
    }
   ],
   "source": [
    "import matplotlib.pyplot as plt\n",
    "plt.plot(ch4data)"
   ]
  },
  {
   "cell_type": "markdown",
   "metadata": {},
   "source": [
    "Now we can visualise the entire year of methane emissions.\n",
    "What if we only want to work with a subset of the data, say one month?\n",
    "To do this we can cut the data down using some of Panda's inbuilt functionality.\n",
    "For example, to select the month of May we can type,"
   ]
  },
  {
   "cell_type": "code",
   "execution_count": 17,
   "metadata": {},
   "outputs": [],
   "source": [
    "maych4data = ch4data.loc[\"2014-05-01\":\"2014-06-01\"]"
   ]
  },
  {
   "cell_type": "markdown",
   "metadata": {},
   "source": [
    "which slices the timeseries to the period defined within the slice.\n",
    "Again, we can print this data to the screen,"
   ]
  },
  {
   "cell_type": "code",
   "execution_count": 18,
   "metadata": {},
   "outputs": [
    {
     "data": {
      "text/html": [
       "<div>\n",
       "<style scoped>\n",
       "    .dataframe tbody tr th:only-of-type {\n",
       "        vertical-align: middle;\n",
       "    }\n",
       "\n",
       "    .dataframe tbody tr th {\n",
       "        vertical-align: top;\n",
       "    }\n",
       "\n",
       "    .dataframe thead th {\n",
       "        text-align: right;\n",
       "    }\n",
       "</style>\n",
       "<table border=\"1\" class=\"dataframe\">\n",
       "  <thead>\n",
       "    <tr style=\"text-align: right;\">\n",
       "      <th></th>\n",
       "      <th>mf</th>\n",
       "    </tr>\n",
       "    <tr>\n",
       "      <th>time</th>\n",
       "      <th></th>\n",
       "    </tr>\n",
       "  </thead>\n",
       "  <tbody>\n",
       "    <tr>\n",
       "      <th>2014-05-01 00:00:00</th>\n",
       "      <td>0.000002</td>\n",
       "    </tr>\n",
       "    <tr>\n",
       "      <th>2014-05-01 02:00:00</th>\n",
       "      <td>0.000002</td>\n",
       "    </tr>\n",
       "    <tr>\n",
       "      <th>2014-05-01 04:00:00</th>\n",
       "      <td>0.000002</td>\n",
       "    </tr>\n",
       "    <tr>\n",
       "      <th>2014-05-01 06:00:00</th>\n",
       "      <td>0.000002</td>\n",
       "    </tr>\n",
       "    <tr>\n",
       "      <th>2014-05-01 08:00:00</th>\n",
       "      <td>0.000002</td>\n",
       "    </tr>\n",
       "    <tr>\n",
       "      <th>2014-05-01 10:00:00</th>\n",
       "      <td>0.000002</td>\n",
       "    </tr>\n",
       "    <tr>\n",
       "      <th>2014-05-01 12:00:00</th>\n",
       "      <td>0.000002</td>\n",
       "    </tr>\n",
       "    <tr>\n",
       "      <th>2014-05-01 14:00:00</th>\n",
       "      <td>0.000002</td>\n",
       "    </tr>\n",
       "    <tr>\n",
       "      <th>2014-05-01 16:00:00</th>\n",
       "      <td>0.000002</td>\n",
       "    </tr>\n",
       "    <tr>\n",
       "      <th>2014-05-01 18:00:00</th>\n",
       "      <td>0.000002</td>\n",
       "    </tr>\n",
       "    <tr>\n",
       "      <th>2014-05-01 20:00:00</th>\n",
       "      <td>0.000002</td>\n",
       "    </tr>\n",
       "    <tr>\n",
       "      <th>2014-05-01 22:00:00</th>\n",
       "      <td>0.000002</td>\n",
       "    </tr>\n",
       "    <tr>\n",
       "      <th>2014-05-02 00:00:00</th>\n",
       "      <td>0.000002</td>\n",
       "    </tr>\n",
       "    <tr>\n",
       "      <th>2014-05-02 02:00:00</th>\n",
       "      <td>0.000002</td>\n",
       "    </tr>\n",
       "    <tr>\n",
       "      <th>2014-05-02 04:00:00</th>\n",
       "      <td>0.000002</td>\n",
       "    </tr>\n",
       "    <tr>\n",
       "      <th>2014-05-02 06:00:00</th>\n",
       "      <td>0.000002</td>\n",
       "    </tr>\n",
       "    <tr>\n",
       "      <th>2014-05-02 08:00:00</th>\n",
       "      <td>0.000002</td>\n",
       "    </tr>\n",
       "    <tr>\n",
       "      <th>2014-05-02 10:00:00</th>\n",
       "      <td>0.000002</td>\n",
       "    </tr>\n",
       "    <tr>\n",
       "      <th>2014-05-02 12:00:00</th>\n",
       "      <td>0.000002</td>\n",
       "    </tr>\n",
       "    <tr>\n",
       "      <th>2014-05-02 14:00:00</th>\n",
       "      <td>0.000002</td>\n",
       "    </tr>\n",
       "    <tr>\n",
       "      <th>2014-05-02 16:00:00</th>\n",
       "      <td>0.000002</td>\n",
       "    </tr>\n",
       "    <tr>\n",
       "      <th>2014-05-02 18:00:00</th>\n",
       "      <td>0.000002</td>\n",
       "    </tr>\n",
       "    <tr>\n",
       "      <th>2014-05-02 20:00:00</th>\n",
       "      <td>0.000002</td>\n",
       "    </tr>\n",
       "    <tr>\n",
       "      <th>2014-05-02 22:00:00</th>\n",
       "      <td>0.000002</td>\n",
       "    </tr>\n",
       "    <tr>\n",
       "      <th>2014-05-03 00:00:00</th>\n",
       "      <td>0.000002</td>\n",
       "    </tr>\n",
       "    <tr>\n",
       "      <th>2014-05-03 02:00:00</th>\n",
       "      <td>0.000002</td>\n",
       "    </tr>\n",
       "    <tr>\n",
       "      <th>2014-05-03 04:00:00</th>\n",
       "      <td>0.000002</td>\n",
       "    </tr>\n",
       "    <tr>\n",
       "      <th>2014-05-03 06:00:00</th>\n",
       "      <td>0.000002</td>\n",
       "    </tr>\n",
       "    <tr>\n",
       "      <th>2014-05-03 08:00:00</th>\n",
       "      <td>0.000002</td>\n",
       "    </tr>\n",
       "    <tr>\n",
       "      <th>2014-05-03 10:00:00</th>\n",
       "      <td>0.000002</td>\n",
       "    </tr>\n",
       "    <tr>\n",
       "      <th>...</th>\n",
       "      <td>...</td>\n",
       "    </tr>\n",
       "    <tr>\n",
       "      <th>2014-05-30 12:00:00</th>\n",
       "      <td>0.000002</td>\n",
       "    </tr>\n",
       "    <tr>\n",
       "      <th>2014-05-30 14:00:00</th>\n",
       "      <td>0.000002</td>\n",
       "    </tr>\n",
       "    <tr>\n",
       "      <th>2014-05-30 16:00:00</th>\n",
       "      <td>0.000002</td>\n",
       "    </tr>\n",
       "    <tr>\n",
       "      <th>2014-05-30 18:00:00</th>\n",
       "      <td>0.000002</td>\n",
       "    </tr>\n",
       "    <tr>\n",
       "      <th>2014-05-30 20:00:00</th>\n",
       "      <td>0.000002</td>\n",
       "    </tr>\n",
       "    <tr>\n",
       "      <th>2014-05-30 22:00:00</th>\n",
       "      <td>0.000002</td>\n",
       "    </tr>\n",
       "    <tr>\n",
       "      <th>2014-05-31 00:00:00</th>\n",
       "      <td>0.000002</td>\n",
       "    </tr>\n",
       "    <tr>\n",
       "      <th>2014-05-31 02:00:00</th>\n",
       "      <td>0.000002</td>\n",
       "    </tr>\n",
       "    <tr>\n",
       "      <th>2014-05-31 04:00:00</th>\n",
       "      <td>0.000002</td>\n",
       "    </tr>\n",
       "    <tr>\n",
       "      <th>2014-05-31 06:00:00</th>\n",
       "      <td>0.000002</td>\n",
       "    </tr>\n",
       "    <tr>\n",
       "      <th>2014-05-31 08:00:00</th>\n",
       "      <td>0.000002</td>\n",
       "    </tr>\n",
       "    <tr>\n",
       "      <th>2014-05-31 10:00:00</th>\n",
       "      <td>0.000002</td>\n",
       "    </tr>\n",
       "    <tr>\n",
       "      <th>2014-05-31 12:00:00</th>\n",
       "      <td>0.000002</td>\n",
       "    </tr>\n",
       "    <tr>\n",
       "      <th>2014-05-31 14:00:00</th>\n",
       "      <td>0.000002</td>\n",
       "    </tr>\n",
       "    <tr>\n",
       "      <th>2014-05-31 16:00:00</th>\n",
       "      <td>0.000002</td>\n",
       "    </tr>\n",
       "    <tr>\n",
       "      <th>2014-05-31 18:00:00</th>\n",
       "      <td>0.000002</td>\n",
       "    </tr>\n",
       "    <tr>\n",
       "      <th>2014-05-31 20:00:00</th>\n",
       "      <td>0.000002</td>\n",
       "    </tr>\n",
       "    <tr>\n",
       "      <th>2014-05-31 22:00:00</th>\n",
       "      <td>0.000002</td>\n",
       "    </tr>\n",
       "    <tr>\n",
       "      <th>2014-06-01 00:00:00</th>\n",
       "      <td>0.000002</td>\n",
       "    </tr>\n",
       "    <tr>\n",
       "      <th>2014-06-01 02:00:00</th>\n",
       "      <td>0.000002</td>\n",
       "    </tr>\n",
       "    <tr>\n",
       "      <th>2014-06-01 04:00:00</th>\n",
       "      <td>0.000002</td>\n",
       "    </tr>\n",
       "    <tr>\n",
       "      <th>2014-06-01 06:00:00</th>\n",
       "      <td>0.000002</td>\n",
       "    </tr>\n",
       "    <tr>\n",
       "      <th>2014-06-01 08:00:00</th>\n",
       "      <td>0.000002</td>\n",
       "    </tr>\n",
       "    <tr>\n",
       "      <th>2014-06-01 10:00:00</th>\n",
       "      <td>0.000002</td>\n",
       "    </tr>\n",
       "    <tr>\n",
       "      <th>2014-06-01 12:00:00</th>\n",
       "      <td>0.000002</td>\n",
       "    </tr>\n",
       "    <tr>\n",
       "      <th>2014-06-01 14:00:00</th>\n",
       "      <td>0.000002</td>\n",
       "    </tr>\n",
       "    <tr>\n",
       "      <th>2014-06-01 16:00:00</th>\n",
       "      <td>0.000002</td>\n",
       "    </tr>\n",
       "    <tr>\n",
       "      <th>2014-06-01 18:00:00</th>\n",
       "      <td>0.000002</td>\n",
       "    </tr>\n",
       "    <tr>\n",
       "      <th>2014-06-01 20:00:00</th>\n",
       "      <td>0.000002</td>\n",
       "    </tr>\n",
       "    <tr>\n",
       "      <th>2014-06-01 22:00:00</th>\n",
       "      <td>0.000002</td>\n",
       "    </tr>\n",
       "  </tbody>\n",
       "</table>\n",
       "<p>384 rows × 1 columns</p>\n",
       "</div>"
      ],
      "text/plain": [
       "                           mf\n",
       "time                         \n",
       "2014-05-01 00:00:00  0.000002\n",
       "2014-05-01 02:00:00  0.000002\n",
       "2014-05-01 04:00:00  0.000002\n",
       "2014-05-01 06:00:00  0.000002\n",
       "2014-05-01 08:00:00  0.000002\n",
       "2014-05-01 10:00:00  0.000002\n",
       "2014-05-01 12:00:00  0.000002\n",
       "2014-05-01 14:00:00  0.000002\n",
       "2014-05-01 16:00:00  0.000002\n",
       "2014-05-01 18:00:00  0.000002\n",
       "2014-05-01 20:00:00  0.000002\n",
       "2014-05-01 22:00:00  0.000002\n",
       "2014-05-02 00:00:00  0.000002\n",
       "2014-05-02 02:00:00  0.000002\n",
       "2014-05-02 04:00:00  0.000002\n",
       "2014-05-02 06:00:00  0.000002\n",
       "2014-05-02 08:00:00  0.000002\n",
       "2014-05-02 10:00:00  0.000002\n",
       "2014-05-02 12:00:00  0.000002\n",
       "2014-05-02 14:00:00  0.000002\n",
       "2014-05-02 16:00:00  0.000002\n",
       "2014-05-02 18:00:00  0.000002\n",
       "2014-05-02 20:00:00  0.000002\n",
       "2014-05-02 22:00:00  0.000002\n",
       "2014-05-03 00:00:00  0.000002\n",
       "2014-05-03 02:00:00  0.000002\n",
       "2014-05-03 04:00:00  0.000002\n",
       "2014-05-03 06:00:00  0.000002\n",
       "2014-05-03 08:00:00  0.000002\n",
       "2014-05-03 10:00:00  0.000002\n",
       "...                       ...\n",
       "2014-05-30 12:00:00  0.000002\n",
       "2014-05-30 14:00:00  0.000002\n",
       "2014-05-30 16:00:00  0.000002\n",
       "2014-05-30 18:00:00  0.000002\n",
       "2014-05-30 20:00:00  0.000002\n",
       "2014-05-30 22:00:00  0.000002\n",
       "2014-05-31 00:00:00  0.000002\n",
       "2014-05-31 02:00:00  0.000002\n",
       "2014-05-31 04:00:00  0.000002\n",
       "2014-05-31 06:00:00  0.000002\n",
       "2014-05-31 08:00:00  0.000002\n",
       "2014-05-31 10:00:00  0.000002\n",
       "2014-05-31 12:00:00  0.000002\n",
       "2014-05-31 14:00:00  0.000002\n",
       "2014-05-31 16:00:00  0.000002\n",
       "2014-05-31 18:00:00  0.000002\n",
       "2014-05-31 20:00:00  0.000002\n",
       "2014-05-31 22:00:00  0.000002\n",
       "2014-06-01 00:00:00  0.000002\n",
       "2014-06-01 02:00:00  0.000002\n",
       "2014-06-01 04:00:00  0.000002\n",
       "2014-06-01 06:00:00  0.000002\n",
       "2014-06-01 08:00:00  0.000002\n",
       "2014-06-01 10:00:00  0.000002\n",
       "2014-06-01 12:00:00  0.000002\n",
       "2014-06-01 14:00:00  0.000002\n",
       "2014-06-01 16:00:00  0.000002\n",
       "2014-06-01 18:00:00  0.000002\n",
       "2014-06-01 20:00:00  0.000002\n",
       "2014-06-01 22:00:00  0.000002\n",
       "\n",
       "[384 rows x 1 columns]"
      ]
     },
     "execution_count": 18,
     "metadata": {},
     "output_type": "execute_result"
    }
   ],
   "source": [
    "maych4data"
   ]
  },
  {
   "cell_type": "markdown",
   "metadata": {},
   "source": [
    "or plot it using,"
   ]
  },
  {
   "cell_type": "code",
   "execution_count": 19,
   "metadata": {},
   "outputs": [
    {
     "data": {
      "text/plain": [
       "[<matplotlib.lines.Line2D at 0x23c114186a0>]"
      ]
     },
     "execution_count": 19,
     "metadata": {},
     "output_type": "execute_result"
    },
    {
     "data": {
      "image/png": "[encoded data removed]",
      "text/plain": [
       "<Figure size 432x288 with 1 Axes>"
      ]
     },
     "metadata": {},
     "output_type": "display_data"
    }
   ],
   "source": [
    "plt.plot(maych4data)"
   ]
  },
  {
   "cell_type": "markdown",
   "metadata": {},
   "source": [
    "If we're not interested in two-hourly data and instead just want to look at something like the monthly means, we can resample the data to this period.\n",
    "This is done using the command"
   ]
  },
  {
   "cell_type": "code",
   "execution_count": 20,
   "metadata": {},
   "outputs": [],
   "source": [
    "ch4monthlymean = ch4data.resample(\"MS\").mean()"
   ]
  },
  {
   "cell_type": "markdown",
   "metadata": {},
   "source": [
    "By passing \"MS\" to the resample function, we are telling pandas that we want to sample each month of the data and set the index to the start of the month (MS is short for month-start).\n",
    "This time we can print the whole resampled timeseries to the screen."
   ]
  },
  {
   "cell_type": "code",
   "execution_count": 21,
   "metadata": {},
   "outputs": [
    {
     "data": {
      "text/html": [
       "<div>\n",
       "<style scoped>\n",
       "    .dataframe tbody tr th:only-of-type {\n",
       "        vertical-align: middle;\n",
       "    }\n",
       "\n",
       "    .dataframe tbody tr th {\n",
       "        vertical-align: top;\n",
       "    }\n",
       "\n",
       "    .dataframe thead th {\n",
       "        text-align: right;\n",
       "    }\n",
       "</style>\n",
       "<table border=\"1\" class=\"dataframe\">\n",
       "  <thead>\n",
       "    <tr style=\"text-align: right;\">\n",
       "      <th></th>\n",
       "      <th>mf</th>\n",
       "    </tr>\n",
       "    <tr>\n",
       "      <th>time</th>\n",
       "      <th></th>\n",
       "    </tr>\n",
       "  </thead>\n",
       "  <tbody>\n",
       "    <tr>\n",
       "      <th>2014-01-01</th>\n",
       "      <td>0.000002</td>\n",
       "    </tr>\n",
       "    <tr>\n",
       "      <th>2014-02-01</th>\n",
       "      <td>0.000002</td>\n",
       "    </tr>\n",
       "    <tr>\n",
       "      <th>2014-03-01</th>\n",
       "      <td>0.000002</td>\n",
       "    </tr>\n",
       "    <tr>\n",
       "      <th>2014-04-01</th>\n",
       "      <td>0.000002</td>\n",
       "    </tr>\n",
       "    <tr>\n",
       "      <th>2014-05-01</th>\n",
       "      <td>0.000002</td>\n",
       "    </tr>\n",
       "    <tr>\n",
       "      <th>2014-06-01</th>\n",
       "      <td>0.000002</td>\n",
       "    </tr>\n",
       "    <tr>\n",
       "      <th>2014-07-01</th>\n",
       "      <td>0.000002</td>\n",
       "    </tr>\n",
       "    <tr>\n",
       "      <th>2014-08-01</th>\n",
       "      <td>0.000002</td>\n",
       "    </tr>\n",
       "    <tr>\n",
       "      <th>2014-09-01</th>\n",
       "      <td>0.000002</td>\n",
       "    </tr>\n",
       "    <tr>\n",
       "      <th>2014-10-01</th>\n",
       "      <td>0.000002</td>\n",
       "    </tr>\n",
       "    <tr>\n",
       "      <th>2014-11-01</th>\n",
       "      <td>0.000002</td>\n",
       "    </tr>\n",
       "    <tr>\n",
       "      <th>2014-12-01</th>\n",
       "      <td>0.000002</td>\n",
       "    </tr>\n",
       "  </tbody>\n",
       "</table>\n",
       "</div>"
      ],
      "text/plain": [
       "                  mf\n",
       "time                \n",
       "2014-01-01  0.000002\n",
       "2014-02-01  0.000002\n",
       "2014-03-01  0.000002\n",
       "2014-04-01  0.000002\n",
       "2014-05-01  0.000002\n",
       "2014-06-01  0.000002\n",
       "2014-07-01  0.000002\n",
       "2014-08-01  0.000002\n",
       "2014-09-01  0.000002\n",
       "2014-10-01  0.000002\n",
       "2014-11-01  0.000002\n",
       "2014-12-01  0.000002"
      ]
     },
     "execution_count": 21,
     "metadata": {},
     "output_type": "execute_result"
    }
   ],
   "source": [
    "ch4monthlymean"
   ]
  },
  {
   "cell_type": "markdown",
   "metadata": {},
   "source": [
    "Finally, we can take a look at this data on a plot."
   ]
  },
  {
   "cell_type": "code",
   "execution_count": 22,
   "metadata": {},
   "outputs": [
    {
     "data": {
      "text/plain": [
       "[<matplotlib.lines.Line2D at 0x23c114ac278>]"
      ]
     },
     "execution_count": 22,
     "metadata": {},
     "output_type": "execute_result"
    },
    {
     "data": {
      "image/png": "[encoded data removed]",
      "text/plain": [
       "<Figure size 432x288 with 1 Axes>"
      ]
     },
     "metadata": {},
     "output_type": "display_data"
    }
   ],
   "source": [
    "plt.plot(ch4monthlymean)"
   ]
  },
  {
   "cell_type": "markdown",
   "metadata": {},
   "source": [
    "# Exercise\n",
    "\n",
    "In Spyder, open a new Python script file and write the code to do the following in it:\n",
    " 1. Read \"ch4_capegrim_2012-2016.csv\" from within the \"data\" directory as a numpy array. This contains **monthly** methane concentrations from Cape Grim in Australia from 2012 - 2016. *Hint: You may want to look the file first to see what options from the above example you need to update.*\n",
    " 2. Find the mean and standard deviation of the measured concentration of methane for 2012 in $\\text g/m^3$."
   ]
  },
  {
   "cell_type": "markdown",
   "metadata": {},
   "source": [
    "## Next Topic"
   ]
  },
  {
   "cell_type": "markdown",
   "metadata": {},
   "source": [
    "When ready you can move onto the next topic:\n",
    "\n",
    "### [Xarray and netCDF files](xarray.ipynb)"
   ]
  },
  {
   "cell_type": "markdown",
   "metadata": {},
   "source": [
    "To view the introduction page containing the list of topics click [here](introduction.ipynb)"
   ]
  }
 ],
 "metadata": {
  "kernelspec": {
   "display_name": "Python 3",
   "language": "python",
   "name": "python3"
  },
  "language_info": {
   "codemirror_mode": {
    "name": "ipython",
    "version": 3
   },
   "file_extension": ".py",
   "mimetype": "text/x-python",
   "name": "python",
   "nbconvert_exporter": "python",
   "pygments_lexer": "ipython3",
   "version": "3.6.5"
  }
 },
 "nbformat": 4,
 "nbformat_minor": 2
}

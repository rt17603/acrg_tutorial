{
 "cells": [
  {
   "cell_type": "markdown",
   "metadata": {},
   "source": [
    "# Functions and numpy\n",
    "\n",
    "## Functions\n",
    "\n",
    "A function is a useful way of reusing code to do a common task over and over again without having to repeat yourself.\n",
    "This makes it easier for you to write code and makes it simpler for others to read.\n",
    "\n",
    "We can start with a really simple example – adding two numbers together.\n",
    "For example, if we want to add two numbers together in Python we can type: "
   ]
  },
  {
   "cell_type": "code",
   "execution_count": 1,
   "metadata": {},
   "outputs": [
    {
     "name": "stdout",
     "output_type": "stream",
     "text": [
      "5\n"
     ]
    }
   ],
   "source": [
    "a = 2\n",
    "b = 3\n",
    "c = a + b\n",
    "print(c)"
   ]
  },
  {
   "cell_type": "markdown",
   "metadata": {},
   "source": [
    "In practice we would never make something so straightforward into a function, but if we do want to make this into a function it would look like this:"
   ]
  },
  {
   "cell_type": "code",
   "execution_count": 2,
   "metadata": {
    "collapsed": true
   },
   "outputs": [],
   "source": [
    "def add(a,b):\n",
    "    c = a + b\n",
    "    return c"
   ]
  },
  {
   "cell_type": "markdown",
   "metadata": {},
   "source": [
    "or just:"
   ]
  },
  {
   "cell_type": "code",
   "execution_count": 3,
   "metadata": {
    "collapsed": true
   },
   "outputs": [],
   "source": [
    "def add(a,b):\n",
    "    return a + b"
   ]
  },
  {
   "cell_type": "markdown",
   "metadata": {},
   "source": [
    "There are several elements to this. Firstly, the `def` indicates that you are defining a function, and the name of this function is `add`. \n",
    "Next, this function takes two inputs: `a` and `b`. This is what the function needs the user to put in to do its job.\n",
    "Everything that comes after the colon is the operation that the function will do. Note that everything in the function after the colon is indented – this is important! Finally the part after the `return` is what the function returns when you call it.\n",
    "\n",
    "We can call the function by typing:"
   ]
  },
  {
   "cell_type": "code",
   "execution_count": 4,
   "metadata": {},
   "outputs": [
    {
     "name": "stdout",
     "output_type": "stream",
     "text": [
      "11\n"
     ]
    }
   ],
   "source": [
    "c = add(5,6)\n",
    "print(c)"
   ]
  },
  {
   "cell_type": "markdown",
   "metadata": {},
   "source": [
    "### Exercise\n",
    "\n",
    "We often measure greenhouse gases in the units mole of the substance per mole of air.\n",
    "Sometimes it's useful to instead have the units in mass concentration, so mass of the substance per volume of air.\n",
    "\n",
    "In Spyder, open a new Python script file and write the code to do the following in it:\n",
    "1. Create a function that takes the concentration of a gas in the units $\\text{mol/mol}$ and the molar mass of that gas and converts it into mass concentration in units $\\text{g/m}^3$. Assume that the molar volume of air is $0.0224\\,\\text{m$^3$/mol}$.\n",
    "2. Use this function to work out what the mass concentration of $1 \\times 10^{-6}~\\text{mol/mol}$ of methane ($\\mathrm{CH_{4}}$) is in $\\text{g/m}^3$"
   ]
  },
  {
   "cell_type": "markdown",
   "metadata": {},
   "source": [
    "## Numpy\n",
    "\n",
    "A collection of many function is called a module.\n",
    "Luckily many useful modules already exist which perfom many of the tasks that we need to do.\n",
    "One of the most useful modules is called *numpy* (**num**erical **Py**thon) – it contains many functions to deal with numerical programming.\n",
    "\n",
    "To use the functions contained within `numpy` we first need to *import* it."
   ]
  },
  {
   "cell_type": "code",
   "execution_count": 5,
   "metadata": {
    "collapsed": true
   },
   "outputs": [],
   "source": [
    "import numpy as np"
   ]
  },
  {
   "cell_type": "markdown",
   "metadata": {},
   "source": [
    "The `as` statement gives us a shorthand to use in the code when we want to access numpy, in this case `np`.\n",
    "\n",
    "To use the functions within numpy, e.g. the square root function, we can type:"
   ]
  },
  {
   "cell_type": "code",
   "execution_count": 6,
   "metadata": {},
   "outputs": [
    {
     "data": {
      "text/plain": [
       "3.0"
      ]
     },
     "execution_count": 6,
     "metadata": {},
     "output_type": "execute_result"
    }
   ],
   "source": [
    "np.sqrt(9.)"
   ]
  },
  {
   "cell_type": "markdown",
   "metadata": {},
   "source": [
    "We need the `np.` at the start of the function to tell python that it's contained within the numpy module.\n",
    "\n",
    "Numpy is also useful as we can create something called an *array* and assign it to a variable. This is a collection of numbers similar to a vector.\n",
    "For example we could create an array using:"
   ]
  },
  {
   "cell_type": "code",
   "execution_count": 7,
   "metadata": {
    "collapsed": true
   },
   "outputs": [],
   "source": [
    "arr = np.array([1.,1.,2.,3.,5.,8.])"
   ]
  },
  {
   "cell_type": "markdown",
   "metadata": {},
   "source": [
    "We can then do the same to all elements of the array at once similar to with single numbers, e.g. to multiply all numbers in the array by two:"
   ]
  },
  {
   "cell_type": "code",
   "execution_count": 8,
   "metadata": {},
   "outputs": [
    {
     "name": "stdout",
     "output_type": "stream",
     "text": [
      "[ 2.  2.  4.  6. 10. 16.]\n"
     ]
    }
   ],
   "source": [
    "print(arr * 2)"
   ]
  },
  {
   "cell_type": "markdown",
   "metadata": {},
   "source": [
    "Contrast this with the behaviour we saw earlier with lists - can you recall what the difference was?\n",
    "\n",
    "In a similiar way to lists and strings, we can access an element of an array using an index. You should recall that, in python, **indexes start from 0 and not 1**.\n",
    "\n",
    "For example, we can type:"
   ]
  },
  {
   "cell_type": "code",
   "execution_count": 9,
   "metadata": {},
   "outputs": [
    {
     "name": "stdout",
     "output_type": "stream",
     "text": [
      "4.0\n"
     ]
    }
   ],
   "source": [
    "print(arr[2] * 2)"
   ]
  },
  {
   "cell_type": "markdown",
   "metadata": {},
   "source": [
    "This gives us access to the 3rd element in the array (not the 2nd) and multiplies it by 2.\n",
    "\n",
    "To access the first 3 elements of the array we can type:"
   ]
  },
  {
   "cell_type": "code",
   "execution_count": 10,
   "metadata": {},
   "outputs": [
    {
     "name": "stdout",
     "output_type": "stream",
     "text": [
      "[1. 1. 2.]\n"
     ]
    }
   ],
   "source": [
    "print(arr[0:3])"
   ]
  },
  {
   "cell_type": "markdown",
   "metadata": {},
   "source": [
    "That is all elements up to, but not including, the one with index 3.\n",
    "\n",
    "Just like for scalar variables, we can also perform a function on an array, for example to find the sum of an array we can type:"
   ]
  },
  {
   "cell_type": "code",
   "execution_count": 11,
   "metadata": {},
   "outputs": [
    {
     "name": "stdout",
     "output_type": "stream",
     "text": [
      "20.0\n"
     ]
    }
   ],
   "source": [
    "print(np.sum(arr))"
   ]
  },
  {
   "cell_type": "markdown",
   "metadata": {},
   "source": [
    "We can also replace one number or multiple numbers in the array by"
   ]
  },
  {
   "cell_type": "code",
   "execution_count": 12,
   "metadata": {},
   "outputs": [
    {
     "name": "stdout",
     "output_type": "stream",
     "text": [
      "0.0\n"
     ]
    }
   ],
   "source": [
    "arr[0] = 0.\n",
    "print(arr[0])"
   ]
  },
  {
   "cell_type": "markdown",
   "metadata": {},
   "source": [
    "### Reading text and csv files with numpy\n",
    "\n",
    "Numpy also has modules to do other useful tasks, such as reading text files.\n",
    "The file \"ch4_macehead_2014.csv\" contains one year's worth of daily averaged methane concentration measured at the Mace Head site on the west coast of Ireland. You can open this up in a text editor to have a look.\n",
    "The left column contains the dates and the right column contains the average concentration on that day (in the units $\\text{mol/mol}$).\n",
    "\n",
    "To read the file into an array you can do the following:"
   ]
  },
  {
   "cell_type": "code",
   "execution_count": 13,
   "metadata": {
    "collapsed": true
   },
   "outputs": [],
   "source": [
    "ch4array = np.genfromtxt('data/ch4_macehead_2014.csv', delimiter=',', skip_header=1)"
   ]
  },
  {
   "cell_type": "markdown",
   "metadata": {},
   "source": [
    "The `genfromtxt` function generates and array from a text file. The `delimiter` argument says that the values in each column are separated by a ',' and `skip_header` tells numpy to ignore the first row and this is just the header information and not values to go into the array.\n",
    "\n",
    "The variable called `ch4array` now contains all of the dates and concentrations in two columns. To use just part of the data in the array we need to access the correct columns and rows.\n",
    "\n",
    "For example to print just the first ten days' of data we can type"
   ]
  },
  {
   "cell_type": "code",
   "execution_count": 14,
   "metadata": {},
   "outputs": [
    {
     "name": "stdout",
     "output_type": "stream",
     "text": [
      "[[           nan 1.90616602e-06]\n",
      " [           nan 1.91029199e-06]\n",
      " [           nan 1.92304534e-06]\n",
      " [           nan 1.93461050e-06]\n",
      " [           nan 1.93035617e-06]\n",
      " [           nan 1.94106017e-06]\n",
      " [           nan 1.92089650e-06]\n",
      " [           nan 1.92795616e-06]\n",
      " [           nan 1.91506836e-06]\n",
      " [           nan 1.90238485e-06]]\n"
     ]
    }
   ],
   "source": [
    "print(ch4array[0:10,:])"
   ]
  },
  {
   "cell_type": "markdown",
   "metadata": {},
   "source": [
    "This tells python to print the first ten rown of data and the colon on its own means print all of the columns in that row.\n",
    "\n",
    "But something is wrong here?! All of the dates have been replaced with `nan` (meaning 'not a number'). \n",
    "This is because numpy can only read numbers, whereas the first column in our file is formatted as a date.\n",
    "There are other ways to read in data containing dates and or strings which you will learn about later.\n",
    "For now we will just extract the measurements that we're interested and work with those.\n",
    "\n",
    "If we want to print the entire column of concentrations we can type"
   ]
  },
  {
   "cell_type": "code",
   "execution_count": 15,
   "metadata": {},
   "outputs": [
    {
     "name": "stdout",
     "output_type": "stream",
     "text": [
      "[1.90616602e-06 1.91029199e-06 1.92304534e-06 ... 1.91967665e-06\n",
      " 1.92091567e-06 1.91707725e-06]\n"
     ]
    }
   ],
   "source": [
    "print(ch4array[:,1])"
   ]
  },
  {
   "cell_type": "markdown",
   "metadata": {},
   "source": [
    "### Exercise\n",
    "\n",
    "In Spyder, open a new Python script file and write the code to do the following in it:\n",
    " 1. Read \"ch4_capegrim_2012-2016.csv\" from within the \"data\" directory as a numpy array. This contains **monthly** methane concentrations from Cape Grim in Australia from 2012 - 2016. *Hint: You may want to look the file first to see what options from the above example you need to update.*\n",
    " 2. Find the mean and standard deviation of the measured concentration of methane for 2012 in $\\text g/m^3$."
   ]
  },
  {
   "cell_type": "markdown",
   "metadata": {},
   "source": [
    "## Next Topic"
   ]
  },
  {
   "cell_type": "markdown",
   "metadata": {},
   "source": [
    "When ready you can move onto the next topic:\n",
    "\n",
    "### [Xarray and netCDF files](xarray.ipynb)"
   ]
  },
  {
   "cell_type": "markdown",
   "metadata": {},
   "source": [
    "To view the introduction page containing the list of topics click [here](introduction.ipynb)"
   ]
  }
 ],
 "metadata": {
  "kernelspec": {
   "display_name": "Python [conda env:anaconda]",
   "language": "python",
   "name": "conda-env-anaconda-py"
  },
  "language_info": {
   "codemirror_mode": {
    "name": "ipython",
    "version": 2
   },
   "file_extension": ".py",
   "mimetype": "text/x-python",
   "name": "python",
   "nbconvert_exporter": "python",
   "pygments_lexer": "ipython2",
   "version": "2.7.15"
  }
 },
 "nbformat": 4,
 "nbformat_minor": 2
}

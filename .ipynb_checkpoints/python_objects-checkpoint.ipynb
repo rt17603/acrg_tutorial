{
 "cells": [
  {
   "cell_type": "markdown",
   "metadata": {},
   "source": [
    "# In-built python objects"
   ]
  },
  {
   "cell_type": "markdown",
   "metadata": {},
   "source": [
    "Hopefully, you're all now vaguely familiar with a few of the basic objects that can be created within Python but here's a quick refresher just to remind you about a few things which may be useful later."
   ]
  },
  {
   "cell_type": "markdown",
   "metadata": {},
   "source": [
    "## Strings, Floats and Ints"
   ]
  },
  {
   "cell_type": "markdown",
   "metadata": {},
   "source": [
    "The simplest objects you can create in Python are representations of text (*string*s) and numbers (*floats* and *integers*).\n",
    "\n",
    "A string is created using quotation marks (single or double quotes are both fine)"
   ]
  },
  {
   "cell_type": "code",
   "execution_count": 1,
   "metadata": {
    "collapsed": true
   },
   "outputs": [],
   "source": [
    "s = 'abc'"
   ]
  },
  {
   "cell_type": "markdown",
   "metadata": {},
   "source": [
    "Integers and floats are whole and decimal numbers respectively and are created as follows:"
   ]
  },
  {
   "cell_type": "code",
   "execution_count": 2,
   "metadata": {
    "collapsed": true
   },
   "outputs": [],
   "source": [
    "i = 1\n",
    "f = 0.123"
   ]
  },
  {
   "cell_type": "markdown",
   "metadata": {},
   "source": [
    "## Lists"
   ]
  },
  {
   "cell_type": "markdown",
   "metadata": {},
   "source": [
    "*Lists* are a objects which can contain an ordered set of data. They're not fussy about what they contain. They're happy with numbers, strings, dictionaries, other lists. This is important to contrast when we discuss a new object called numpy arrays later which *are* picky about what they contain in order to make them faster.\n",
    "\n",
    "A list is defined with square brackets as follows:"
   ]
  },
  {
   "cell_type": "code",
   "execution_count": 3,
   "metadata": {
    "collapsed": true
   },
   "outputs": [],
   "source": [
    "a = [1, \"123\", 3.412]"
   ]
  },
  {
   "cell_type": "markdown",
   "metadata": {},
   "source": [
    "To access values within that list we use what's called an index.\n",
    "One important thing to note in python is that **indexes start from 0 not 1**\n",
    "So if you want the first element of a list you have to ask for index 0 rather than index 1."
   ]
  },
  {
   "cell_type": "code",
   "execution_count": 4,
   "metadata": {},
   "outputs": [
    {
     "name": "stdout",
     "output_type": "stream",
     "text": [
      "1\n"
     ]
    }
   ],
   "source": [
    "print(a[0])"
   ]
  },
  {
   "cell_type": "markdown",
   "metadata": {},
   "source": [
    "Using negative indices also allow you to count back from the end of a list e.g. -1 will return the last element of a list:"
   ]
  },
  {
   "cell_type": "code",
   "execution_count": 5,
   "metadata": {},
   "outputs": [
    {
     "name": "stdout",
     "output_type": "stream",
     "text": [
      "3.412\n"
     ]
    }
   ],
   "source": [
    "print(a[-1])"
   ]
  },
  {
   "cell_type": "markdown",
   "metadata": {},
   "source": [
    "You can also ask for a range of indices using start:end syntax. Another important thing to note in python is that this **range will not return the last index**. So it's from start up to but not including end. e.g."
   ]
  },
  {
   "cell_type": "code",
   "execution_count": 6,
   "metadata": {},
   "outputs": [
    {
     "name": "stdout",
     "output_type": "stream",
     "text": [
      "[1]\n",
      "[1, '123']\n"
     ]
    }
   ],
   "source": [
    "print(a[0:1])\n",
    "print(a[0:2])"
   ]
  },
  {
   "cell_type": "markdown",
   "metadata": {},
   "source": [
    "One piece of behaviour to contrast with the similar numpy array type mentioned above is what happens when you multiply a list by an integer. \n",
    "\n",
    "For python lists, this doesn't work as you might expect, like mathematical multiplication. Because lists are flexible they may not contain numbers (and in our case we have included a string) so instead it returns a list with the elements repeated 3 times."
   ]
  },
  {
   "cell_type": "code",
   "execution_count": 7,
   "metadata": {},
   "outputs": [
    {
     "name": "stdout",
     "output_type": "stream",
     "text": [
      "[1, '123', 3.412, 1, '123', 3.412, 1, '123', 3.412]\n"
     ]
    }
   ],
   "source": [
    "print(a*3)"
   ]
  },
  {
   "cell_type": "markdown",
   "metadata": {},
   "source": [
    "Indexing is a common piece of functionality in Python and works for anything which has multiple elements to it. e.g. "
   ]
  },
  {
   "cell_type": "code",
   "execution_count": 8,
   "metadata": {},
   "outputs": [
    {
     "name": "stdout",
     "output_type": "stream",
     "text": [
      "12\n"
     ]
    }
   ],
   "source": [
    "s = \"123\"\n",
    "print(s[0:-1])"
   ]
  },
  {
   "cell_type": "markdown",
   "metadata": {},
   "source": [
    "You can even created lists of lists (of lists...) which you can keep asking for each index until there are no more levels remaining:"
   ]
  },
  {
   "cell_type": "code",
   "execution_count": 9,
   "metadata": {},
   "outputs": [
    {
     "name": "stdout",
     "output_type": "stream",
     "text": [
      "[['123', 2, 3], [3, 4, 5], [5, 6, 7]]\n",
      "['123', 2, 3]\n",
      "123\n",
      "1\n"
     ]
    }
   ],
   "source": [
    "l = [['123',2,3], [3,4,5], [5,6,7], [8,9,'111']]\n",
    "print(l[0:3])\n",
    "print(l[0])\n",
    "print(l[0][0])\n",
    "print(l[0][0][0])"
   ]
  },
  {
   "cell_type": "markdown",
   "metadata": {},
   "source": [
    "## Dictionaries"
   ]
  },
  {
   "cell_type": "markdown",
   "metadata": {},
   "source": [
    "Another default Python object you will come across is called a dictionary. These are created using curly brackets:"
   ]
  },
  {
   "cell_type": "code",
   "execution_count": 10,
   "metadata": {
    "collapsed": true
   },
   "outputs": [],
   "source": [
    "d = {\"cup\": \"tea\", \"glass\": \"water\", \"bowl\": \"soup\"}"
   ]
  },
  {
   "cell_type": "markdown",
   "metadata": {},
   "source": [
    "A dictionary contains what are called `key:value` pairs and you can select the values from the dictionary using a key in the same way you could an index for a list e.g. "
   ]
  },
  {
   "cell_type": "code",
   "execution_count": 11,
   "metadata": {},
   "outputs": [
    {
     "name": "stdout",
     "output_type": "stream",
     "text": [
      "tea\n"
     ]
    }
   ],
   "source": [
    "print(d[\"cup\"])"
   ]
  },
  {
   "cell_type": "markdown",
   "metadata": {},
   "source": [
    "To find all the keys contained within a dictionary you can use the keys function:"
   ]
  },
  {
   "cell_type": "code",
   "execution_count": 12,
   "metadata": {},
   "outputs": [
    {
     "name": "stdout",
     "output_type": "stream",
     "text": [
      "['glass', 'bowl', 'cup']\n"
     ]
    }
   ],
   "source": [
    "print(d.keys())"
   ]
  },
  {
   "cell_type": "markdown",
   "metadata": {},
   "source": [
    "And you can add to the dictionary by specifying a new key value pair:"
   ]
  },
  {
   "cell_type": "code",
   "execution_count": 13,
   "metadata": {
    "collapsed": true
   },
   "outputs": [],
   "source": [
    "d[\"plate\"] = \"dinner\""
   ]
  },
  {
   "cell_type": "code",
   "execution_count": 14,
   "metadata": {},
   "outputs": [
    {
     "name": "stdout",
     "output_type": "stream",
     "text": [
      "{'glass': 'water', 'bowl': 'soup', 'plate': 'dinner', 'cup': 'tea'}\n"
     ]
    }
   ],
   "source": [
    "print(d)"
   ]
  },
  {
   "cell_type": "markdown",
   "metadata": {},
   "source": [
    "## Functions"
   ]
  },
  {
   "cell_type": "markdown",
   "metadata": {},
   "source": [
    "Functions are self-contained snippets of code that can be 'called' to perform a certain task. Functions are useful if you want to carry out the same action multiple times. Instead of repeating the same piece of code, you can just call the function to carry out that action for you.\n",
    "\n",
    "For example, you could write a function that calculates the sum of the first two values in a list.\n",
    "You have to let python know you are defining a function, supply all the input variables, and remember to return the output of the function at the end:"
   ]
  },
  {
   "cell_type": "code",
   "execution_count": 38,
   "metadata": {},
   "outputs": [],
   "source": [
    "def addition(x):\n",
    "    total = x[0] + x[1]\n",
    "    return total"
   ]
  },
  {
   "cell_type": "markdown",
   "metadata": {},
   "source": [
    "To use this function, supply it with any list with two values:"
   ]
  },
  {
   "cell_type": "code",
   "execution_count": 39,
   "metadata": {},
   "outputs": [
    {
     "name": "stdout",
     "output_type": "stream",
     "text": [
      "9.0\n"
     ]
    }
   ],
   "source": [
    "short_list = [5.2,3.8]\n",
    "\n",
    "z = addition(short_list)\n",
    "print(z)"
   ]
  },
  {
   "cell_type": "markdown",
   "metadata": {},
   "source": [
    "## In-built Python functions"
   ]
  },
  {
   "cell_type": "markdown",
   "metadata": {},
   "source": [
    "To make things easier, Python already has lots of in-built functions like this. \n",
    "\n",
    "For example, there's already a sum function which does the same as above, which works for any length list:"
   ]
  },
  {
   "cell_type": "code",
   "execution_count": 40,
   "metadata": {},
   "outputs": [
    {
     "name": "stdout",
     "output_type": "stream",
     "text": [
      "12.0\n"
     ]
    }
   ],
   "source": [
    "longer_list = [5.2,3.8,1.0,2.0]\n",
    "\n",
    "z = sum(longer_list)\n",
    "print(z)"
   ]
  },
  {
   "cell_type": "markdown",
   "metadata": {},
   "source": [
    "This link gives details of all the built-in functions in python, with decriptions of how to use them: https://docs.python.org/3/library/functions.html\n",
    "\n",
    "Python _modules_ contain groups of functions that can do more complex tasks. These modules have to be imported before you can use the functions they contain. \n",
    "\n",
    "The 'math' module contains (amoungst many other things) the cosine function, which is called using math.cos:"
   ]
  },
  {
   "cell_type": "code",
   "execution_count": 41,
   "metadata": {},
   "outputs": [
    {
     "name": "stdout",
     "output_type": "stream",
     "text": [
      "0.8775825618903728\n"
     ]
    }
   ],
   "source": [
    "import math              #open the math module, loading in the functions\n",
    "\n",
    "print(math.cos(0.5))     #call the cos function, from the math module"
   ]
  },
  {
   "cell_type": "markdown",
   "metadata": {},
   "source": [
    "## Other topics\n",
    "Obviously there are many other aspects to Python functionality which you have probably been looking at. If you have any particular questions please do ask but we're not going to cover other concepts in detail today like `for` loops and `if` statements since there should be lots of information available."
   ]
  },
  {
   "cell_type": "markdown",
   "metadata": {},
   "source": [
    "## Next topic"
   ]
  },
  {
   "cell_type": "markdown",
   "metadata": {},
   "source": [
    "When ready you can move onto the next topic: \n",
    "### [Numpy and arrays](functionsandnumpy.ipynb)"
   ]
  },
  {
   "cell_type": "markdown",
   "metadata": {},
   "source": [
    "To return to the introduction page with the list of topics click [here](introduction.ipynb)"
   ]
  }
 ],
 "metadata": {
  "kernelspec": {
   "display_name": "Python 3",
   "language": "python",
   "name": "python3"
  },
  "language_info": {
   "codemirror_mode": {
    "name": "ipython",
    "version": 3
   },
   "file_extension": ".py",
   "mimetype": "text/x-python",
   "name": "python",
   "nbconvert_exporter": "python",
   "pygments_lexer": "ipython3",
   "version": "3.7.3"
  }
 },
 "nbformat": 4,
 "nbformat_minor": 2
}
